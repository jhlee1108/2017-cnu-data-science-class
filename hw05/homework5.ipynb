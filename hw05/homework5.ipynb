{
 "cells": [
  {
   "cell_type": "code",
   "execution_count": 1,
   "metadata": {
    "collapsed": true
   },
   "outputs": [],
   "source": [
    "import pandas as pd"
   ]
  },
  {
   "cell_type": "markdown",
   "metadata": {},
   "source": [
    "## csv파일 읽기"
   ]
  },
  {
   "cell_type": "code",
   "execution_count": 14,
   "metadata": {},
   "outputs": [],
   "source": [
    "ratings = pd.read_csv('ml-latest-small/ratings.csv')\n",
    "test = pd.read_csv('test.csv')"
   ]
  },
  {
   "cell_type": "code",
   "execution_count": 3,
   "metadata": {
    "scrolled": true
   },
   "outputs": [
    {
     "data": {
      "text/html": [
       "<div>\n",
       "<table border=\"1\" class=\"dataframe\">\n",
       "  <thead>\n",
       "    <tr style=\"text-align: right;\">\n",
       "      <th></th>\n",
       "      <th>userId</th>\n",
       "      <th>movieId</th>\n",
       "      <th>rating</th>\n",
       "      <th>timestamp</th>\n",
       "    </tr>\n",
       "  </thead>\n",
       "  <tbody>\n",
       "    <tr>\n",
       "      <th>0</th>\n",
       "      <td>1</td>\n",
       "      <td>31</td>\n",
       "      <td>2.5</td>\n",
       "      <td>1260759144</td>\n",
       "    </tr>\n",
       "    <tr>\n",
       "      <th>1</th>\n",
       "      <td>1</td>\n",
       "      <td>1029</td>\n",
       "      <td>3.0</td>\n",
       "      <td>1260759179</td>\n",
       "    </tr>\n",
       "  </tbody>\n",
       "</table>\n",
       "</div>"
      ],
      "text/plain": [
       "   userId  movieId  rating   timestamp\n",
       "0       1       31     2.5  1260759144\n",
       "1       1     1029     3.0  1260759179"
      ]
     },
     "execution_count": 3,
     "metadata": {},
     "output_type": "execute_result"
    }
   ],
   "source": [
    "ratings.head(2)"
   ]
  },
  {
   "cell_type": "markdown",
   "metadata": {},
   "source": [
    "## User X Movie Matrix 만들기"
   ]
  },
  {
   "cell_type": "code",
   "execution_count": 4,
   "metadata": {},
   "outputs": [
    {
     "name": "stdout",
     "output_type": "stream",
     "text": [
      "UM Matrix value size 6083286\n",
      "ratings value size 400016\n"
     ]
    }
   ],
   "source": [
    "UM_matrix_ds = ratings.pivot(index='userId', columns='movieId', values='rating')\n",
    "\n",
    "print(\"UM Matrix value size\", UM_matrix_ds.values.size)\n",
    "print(\"ratings value size\", ratings.values.size)"
   ]
  },
  {
   "cell_type": "code",
   "execution_count": 5,
   "metadata": {},
   "outputs": [
    {
     "data": {
      "text/html": [
       "<div>\n",
       "<table border=\"1\" class=\"dataframe\">\n",
       "  <thead>\n",
       "    <tr style=\"text-align: right;\">\n",
       "      <th>movieId</th>\n",
       "      <th>1</th>\n",
       "      <th>2</th>\n",
       "      <th>3</th>\n",
       "      <th>4</th>\n",
       "      <th>5</th>\n",
       "      <th>6</th>\n",
       "      <th>7</th>\n",
       "      <th>8</th>\n",
       "      <th>9</th>\n",
       "      <th>10</th>\n",
       "      <th>...</th>\n",
       "      <th>161084</th>\n",
       "      <th>161155</th>\n",
       "      <th>161594</th>\n",
       "      <th>161830</th>\n",
       "      <th>161918</th>\n",
       "      <th>161944</th>\n",
       "      <th>162376</th>\n",
       "      <th>162542</th>\n",
       "      <th>162672</th>\n",
       "      <th>163949</th>\n",
       "    </tr>\n",
       "    <tr>\n",
       "      <th>userId</th>\n",
       "      <th></th>\n",
       "      <th></th>\n",
       "      <th></th>\n",
       "      <th></th>\n",
       "      <th></th>\n",
       "      <th></th>\n",
       "      <th></th>\n",
       "      <th></th>\n",
       "      <th></th>\n",
       "      <th></th>\n",
       "      <th></th>\n",
       "      <th></th>\n",
       "      <th></th>\n",
       "      <th></th>\n",
       "      <th></th>\n",
       "      <th></th>\n",
       "      <th></th>\n",
       "      <th></th>\n",
       "      <th></th>\n",
       "      <th></th>\n",
       "      <th></th>\n",
       "    </tr>\n",
       "  </thead>\n",
       "  <tbody>\n",
       "    <tr>\n",
       "      <th>1</th>\n",
       "      <td>NaN</td>\n",
       "      <td>NaN</td>\n",
       "      <td>NaN</td>\n",
       "      <td>NaN</td>\n",
       "      <td>NaN</td>\n",
       "      <td>NaN</td>\n",
       "      <td>NaN</td>\n",
       "      <td>NaN</td>\n",
       "      <td>NaN</td>\n",
       "      <td>NaN</td>\n",
       "      <td>...</td>\n",
       "      <td>NaN</td>\n",
       "      <td>NaN</td>\n",
       "      <td>NaN</td>\n",
       "      <td>NaN</td>\n",
       "      <td>NaN</td>\n",
       "      <td>NaN</td>\n",
       "      <td>NaN</td>\n",
       "      <td>NaN</td>\n",
       "      <td>NaN</td>\n",
       "      <td>NaN</td>\n",
       "    </tr>\n",
       "    <tr>\n",
       "      <th>2</th>\n",
       "      <td>NaN</td>\n",
       "      <td>NaN</td>\n",
       "      <td>NaN</td>\n",
       "      <td>NaN</td>\n",
       "      <td>NaN</td>\n",
       "      <td>NaN</td>\n",
       "      <td>NaN</td>\n",
       "      <td>NaN</td>\n",
       "      <td>NaN</td>\n",
       "      <td>4.0</td>\n",
       "      <td>...</td>\n",
       "      <td>NaN</td>\n",
       "      <td>NaN</td>\n",
       "      <td>NaN</td>\n",
       "      <td>NaN</td>\n",
       "      <td>NaN</td>\n",
       "      <td>NaN</td>\n",
       "      <td>NaN</td>\n",
       "      <td>NaN</td>\n",
       "      <td>NaN</td>\n",
       "      <td>NaN</td>\n",
       "    </tr>\n",
       "  </tbody>\n",
       "</table>\n",
       "<p>2 rows × 9066 columns</p>\n",
       "</div>"
      ],
      "text/plain": [
       "movieId  1       2       3       4       5       6       7       8       \\\n",
       "userId                                                                    \n",
       "1           NaN     NaN     NaN     NaN     NaN     NaN     NaN     NaN   \n",
       "2           NaN     NaN     NaN     NaN     NaN     NaN     NaN     NaN   \n",
       "\n",
       "movieId  9       10       ...    161084  161155  161594  161830  161918  \\\n",
       "userId                    ...                                             \n",
       "1           NaN     NaN   ...       NaN     NaN     NaN     NaN     NaN   \n",
       "2           NaN     4.0   ...       NaN     NaN     NaN     NaN     NaN   \n",
       "\n",
       "movieId  161944  162376  162542  162672  163949  \n",
       "userId                                           \n",
       "1           NaN     NaN     NaN     NaN     NaN  \n",
       "2           NaN     NaN     NaN     NaN     NaN  \n",
       "\n",
       "[2 rows x 9066 columns]"
      ]
     },
     "execution_count": 5,
     "metadata": {},
     "output_type": "execute_result"
    }
   ],
   "source": [
    "UM_matrix_ds.head(2)"
   ]
  },
  {
   "cell_type": "markdown",
   "metadata": {},
   "source": [
    "## 최근접 이웃을 찾아 보자"
   ]
  },
  {
   "cell_type": "code",
   "execution_count": 6,
   "metadata": {
    "collapsed": true
   },
   "outputs": [],
   "source": [
    "import math\n",
    "from operator import itemgetter\n",
    "from scipy.spatial import distance\n",
    "\n",
    "def distance_cosine(a, b):\n",
    "    return 1-distance.cosine(a,b)\n",
    "\n",
    "def distance_correlation(a, b):\n",
    "    return 1-distance.correlation(a,b)\n",
    "\n",
    "def distance_euclidean(a, b):\n",
    "    return 1/(distance.euclidean(a,b)+1)"
   ]
  },
  {
   "cell_type": "code",
   "execution_count": 7,
   "metadata": {
    "collapsed": true
   },
   "outputs": [],
   "source": [
    "def nearest_neighbor_user(user, topN, simFunc):\n",
    "    u1 = UM_matrix_ds.loc[user].dropna()\n",
    "    ratedIndex = u1.index\n",
    "    nn = {}\n",
    "    \n",
    "    ## Brote Force Compute\n",
    "    for uid, row in UM_matrix_ds.iterrows():\n",
    "        interSectionU1 = []\n",
    "        interSectionU2 = []\n",
    "        \n",
    "        if uid == user:\n",
    "            continue\n",
    "            \n",
    "        for i in ratedIndex:\n",
    "            if False == math.isnan(row[i]):\n",
    "                interSectionU1.append(u1[i])\n",
    "                interSectionU2.append(row[i])\n",
    "        interSectionLen = len(interSectionU1)\n",
    "        \n",
    "        ## At least 3 intersection items\n",
    "        if interSectionLen < 3:\n",
    "            continue\n",
    "            \n",
    "        ## similarity function\n",
    "        sim = simFunc(interSectionU1, interSectionU2)\n",
    "        \n",
    "        if math.isnan(sim) == False:\n",
    "            nn[uid] = sim\n",
    "            \n",
    "    ## top N returned\n",
    "    return sorted(nn.items(), key=itemgetter(1))[:-(topN+1):-1]"
   ]
  },
  {
   "cell_type": "code",
   "execution_count": 18,
   "metadata": {},
   "outputs": [
    {
     "name": "stdout",
     "output_type": "stream",
     "text": [
      "[(354, 1.0), (115, 0.6666666666666666), (544, 0.585786437626905)]\n",
      "[(539, 0.38742588672279304), (50, 0.3761785115301142), (444, 0.3567891723253309)]\n",
      "[(634, 0.6666666666666666), (35, 0.38742588672279304), (1, 0.38742588672279304)]\n",
      "[(76, 1.0), (515, 0.585786437626905), (485, 0.585786437626905)]\n",
      "[(618, 1.0), (391, 0.6666666666666666), (211, 0.6666666666666666)]\n",
      "[(668, 0.585786437626905), (154, 0.585786437626905), (331, 0.5358983848622454)]\n",
      "[(631, 1.0), (252, 0.6666666666666666), (194, 0.6666666666666666)]\n",
      "[(397, 0.4142135623730951), (113, 0.32037724101704074), (129, 0.2989350844248255)]\n",
      "[(223, 1.0), (524, 0.585786437626905), (208, 0.5358983848622454)]\n",
      "[(569, 1.0), (139, 1.0), (125, 0.6666666666666666)]\n",
      "33.21187615394592 sec\n"
     ]
    }
   ],
   "source": [
    "import time\n",
    "st = time.time()\n",
    "for user in test['userId']:\n",
    "    print(nearest_neighbor_user(user, 3, distance_euclidean))\n",
    "print(time.time()-st, 'sec')"
   ]
  },
  {
   "cell_type": "code",
   "execution_count": 9,
   "metadata": {
    "collapsed": true
   },
   "outputs": [],
   "source": [
    "def predictRating(userId, nn=50, simFunc=distance_euclidean):\n",
    "    \n",
    "    ## neighborhood\n",
    "    neighbor = nearest_neighbor_user(userId, nn, simFunc)\n",
    "    neighbor_id = [id for id, sim in neighbor]\n",
    "    \n",
    "    ## neighborhood's movie : at least 4 ratings\n",
    "    neighbor_movie = UM_matrix_ds.loc[neighbor_id]\\\n",
    "                    .dropna(1, how='all', thresh=4)\n",
    "    neighbor_dic = (dict(neighbor))\n",
    "    ret = [] # ['movieID', 'predictedRate']\n",
    "    \n",
    "    ## rating predict by my similarities\n",
    "    for movieId, row in neighbor_movie.iteritems():\n",
    "        jsum, wsum = 0, 0\n",
    "        for v in row.dropna().iteritems():\n",
    "            sim = neighbor_dic.get(v[0], 0)\n",
    "            jsum += sim\n",
    "            wsum += (v[1]*sim)\n",
    "        ret.append([movieId, wsum/jsum])\n",
    "        \n",
    "    return ret"
   ]
  },
  {
   "cell_type": "code",
   "execution_count": 66,
   "metadata": {},
   "outputs": [
    {
     "name": "stdout",
     "output_type": "stream",
     "text": [
      "[1356, 4.1089823775966527]\n",
      "[555, 4.0031304509580083]\n",
      "[6212, 2.5542517080017473]\n"
     ]
    }
   ],
   "source": [
    "i=0\n",
    "for user in test['userId']:\n",
    "    ans = predictRating(user, 100)\n",
    "    for a in ans:\n",
    "        if a[0] == test.loc[test['userId'] == user]['movieId'][i]:\n",
    "            print(a)\n",
    "    i+=1\n",
    "        "
   ]
  }
 ],
 "metadata": {
  "kernelspec": {
   "display_name": "Python 3",
   "language": "python",
   "name": "python3"
  },
  "language_info": {
   "codemirror_mode": {
    "name": "ipython",
    "version": 3
   },
   "file_extension": ".py",
   "mimetype": "text/x-python",
   "name": "python",
   "nbconvert_exporter": "python",
   "pygments_lexer": "ipython3",
   "version": "3.5.2"
  }
 },
 "nbformat": 4,
 "nbformat_minor": 2
}
