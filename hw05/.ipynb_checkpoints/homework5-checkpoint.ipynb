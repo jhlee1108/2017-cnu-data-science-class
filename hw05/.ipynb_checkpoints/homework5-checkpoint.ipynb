{
 "cells": [
  {
   "cell_type": "code",
   "execution_count": 1,
   "metadata": {
    "collapsed": true
   },
   "outputs": [],
   "source": [
    "import pandas as pd"
   ]
  },
  {
   "cell_type": "markdown",
   "metadata": {},
   "source": [
    "## csv파일 읽기"
   ]
  },
  {
   "cell_type": "code",
   "execution_count": 2,
   "metadata": {
    "collapsed": true
   },
   "outputs": [],
   "source": [
    "ratings = pd.read_csv('ml-latest-small/ratings.csv')\n",
    "test = pd.read_csv('test.csv')"
   ]
  },
  {
   "cell_type": "code",
   "execution_count": 3,
   "metadata": {
    "scrolled": true
   },
   "outputs": [
    {
     "data": {
      "text/html": [
       "<div>\n",
       "<table border=\"1\" class=\"dataframe\">\n",
       "  <thead>\n",
       "    <tr style=\"text-align: right;\">\n",
       "      <th></th>\n",
       "      <th>userId</th>\n",
       "      <th>movieId</th>\n",
       "      <th>rating</th>\n",
       "      <th>timestamp</th>\n",
       "    </tr>\n",
       "  </thead>\n",
       "  <tbody>\n",
       "    <tr>\n",
       "      <th>0</th>\n",
       "      <td>1</td>\n",
       "      <td>31</td>\n",
       "      <td>2.5</td>\n",
       "      <td>1260759144</td>\n",
       "    </tr>\n",
       "    <tr>\n",
       "      <th>1</th>\n",
       "      <td>1</td>\n",
       "      <td>1029</td>\n",
       "      <td>3.0</td>\n",
       "      <td>1260759179</td>\n",
       "    </tr>\n",
       "  </tbody>\n",
       "</table>\n",
       "</div>"
      ],
      "text/plain": [
       "   userId  movieId  rating   timestamp\n",
       "0       1       31     2.5  1260759144\n",
       "1       1     1029     3.0  1260759179"
      ]
     },
     "execution_count": 3,
     "metadata": {},
     "output_type": "execute_result"
    }
   ],
   "source": [
    "ratings.head(2)"
   ]
  },
  {
   "cell_type": "code",
   "execution_count": 4,
   "metadata": {},
   "outputs": [
    {
     "data": {
      "text/html": [
       "<div>\n",
       "<table border=\"1\" class=\"dataframe\">\n",
       "  <thead>\n",
       "    <tr style=\"text-align: right;\">\n",
       "      <th></th>\n",
       "      <th>userId</th>\n",
       "      <th>movieId</th>\n",
       "      <th>rating</th>\n",
       "      <th>timestamp</th>\n",
       "    </tr>\n",
       "  </thead>\n",
       "  <tbody>\n",
       "    <tr>\n",
       "      <th>0</th>\n",
       "      <td>70</td>\n",
       "      <td>1356</td>\n",
       "      <td>5.0</td>\n",
       "      <td>853954485</td>\n",
       "    </tr>\n",
       "    <tr>\n",
       "      <th>1</th>\n",
       "      <td>133</td>\n",
       "      <td>71899</td>\n",
       "      <td>3.0</td>\n",
       "      <td>141614774</td>\n",
       "    </tr>\n",
       "    <tr>\n",
       "      <th>2</th>\n",
       "      <td>213</td>\n",
       "      <td>73015</td>\n",
       "      <td>2.0</td>\n",
       "      <td>1462636831</td>\n",
       "    </tr>\n",
       "    <tr>\n",
       "      <th>3</th>\n",
       "      <td>292</td>\n",
       "      <td>4014</td>\n",
       "      <td>4.5</td>\n",
       "      <td>1140148958</td>\n",
       "    </tr>\n",
       "    <tr>\n",
       "      <th>4</th>\n",
       "      <td>367</td>\n",
       "      <td>555</td>\n",
       "      <td>3.5</td>\n",
       "      <td>1128631203</td>\n",
       "    </tr>\n",
       "    <tr>\n",
       "      <th>5</th>\n",
       "      <td>433</td>\n",
       "      <td>8528</td>\n",
       "      <td>3.5</td>\n",
       "      <td>1417930329</td>\n",
       "    </tr>\n",
       "    <tr>\n",
       "      <th>6</th>\n",
       "      <td>483</td>\n",
       "      <td>1527</td>\n",
       "      <td>3.0</td>\n",
       "      <td>1465387443</td>\n",
       "    </tr>\n",
       "    <tr>\n",
       "      <th>7</th>\n",
       "      <td>547</td>\n",
       "      <td>8492</td>\n",
       "      <td>4.5</td>\n",
       "      <td>1199576393</td>\n",
       "    </tr>\n",
       "    <tr>\n",
       "      <th>8</th>\n",
       "      <td>597</td>\n",
       "      <td>2662</td>\n",
       "      <td>3.0</td>\n",
       "      <td>940707473</td>\n",
       "    </tr>\n",
       "    <tr>\n",
       "      <th>9</th>\n",
       "      <td>671</td>\n",
       "      <td>6212</td>\n",
       "      <td>2.5</td>\n",
       "      <td>1065149436</td>\n",
       "    </tr>\n",
       "  </tbody>\n",
       "</table>\n",
       "</div>"
      ],
      "text/plain": [
       "   userId  movieId  rating   timestamp\n",
       "0      70     1356     5.0   853954485\n",
       "1     133    71899     3.0   141614774\n",
       "2     213    73015     2.0  1462636831\n",
       "3     292     4014     4.5  1140148958\n",
       "4     367      555     3.5  1128631203\n",
       "5     433     8528     3.5  1417930329\n",
       "6     483     1527     3.0  1465387443\n",
       "7     547     8492     4.5  1199576393\n",
       "8     597     2662     3.0   940707473\n",
       "9     671     6212     2.5  1065149436"
      ]
     },
     "execution_count": 4,
     "metadata": {},
     "output_type": "execute_result"
    }
   ],
   "source": [
    "test"
   ]
  },
  {
   "cell_type": "markdown",
   "metadata": {},
   "source": [
    "## 1. Data Processing\n",
    "### User X Movie Matrix 만들기"
   ]
  },
  {
   "cell_type": "code",
   "execution_count": 5,
   "metadata": {},
   "outputs": [
    {
     "name": "stdout",
     "output_type": "stream",
     "text": [
      "UM Matrix value size 6083286\n",
      "ratings value size 400016\n"
     ]
    }
   ],
   "source": [
    "UM_matrix_ds = ratings.pivot(index='userId', columns='movieId', values='rating')\n",
    "\n",
    "print(\"UM Matrix value size\", UM_matrix_ds.values.size)\n",
    "print(\"ratings value size\", ratings.values.size)"
   ]
  },
  {
   "cell_type": "code",
   "execution_count": 6,
   "metadata": {},
   "outputs": [
    {
     "data": {
      "text/html": [
       "<div>\n",
       "<table border=\"1\" class=\"dataframe\">\n",
       "  <thead>\n",
       "    <tr style=\"text-align: right;\">\n",
       "      <th>movieId</th>\n",
       "      <th>1</th>\n",
       "      <th>2</th>\n",
       "      <th>3</th>\n",
       "      <th>4</th>\n",
       "      <th>5</th>\n",
       "      <th>6</th>\n",
       "      <th>7</th>\n",
       "      <th>8</th>\n",
       "      <th>9</th>\n",
       "      <th>10</th>\n",
       "      <th>...</th>\n",
       "      <th>161084</th>\n",
       "      <th>161155</th>\n",
       "      <th>161594</th>\n",
       "      <th>161830</th>\n",
       "      <th>161918</th>\n",
       "      <th>161944</th>\n",
       "      <th>162376</th>\n",
       "      <th>162542</th>\n",
       "      <th>162672</th>\n",
       "      <th>163949</th>\n",
       "    </tr>\n",
       "    <tr>\n",
       "      <th>userId</th>\n",
       "      <th></th>\n",
       "      <th></th>\n",
       "      <th></th>\n",
       "      <th></th>\n",
       "      <th></th>\n",
       "      <th></th>\n",
       "      <th></th>\n",
       "      <th></th>\n",
       "      <th></th>\n",
       "      <th></th>\n",
       "      <th></th>\n",
       "      <th></th>\n",
       "      <th></th>\n",
       "      <th></th>\n",
       "      <th></th>\n",
       "      <th></th>\n",
       "      <th></th>\n",
       "      <th></th>\n",
       "      <th></th>\n",
       "      <th></th>\n",
       "      <th></th>\n",
       "    </tr>\n",
       "  </thead>\n",
       "  <tbody>\n",
       "    <tr>\n",
       "      <th>1</th>\n",
       "      <td>NaN</td>\n",
       "      <td>NaN</td>\n",
       "      <td>NaN</td>\n",
       "      <td>NaN</td>\n",
       "      <td>NaN</td>\n",
       "      <td>NaN</td>\n",
       "      <td>NaN</td>\n",
       "      <td>NaN</td>\n",
       "      <td>NaN</td>\n",
       "      <td>NaN</td>\n",
       "      <td>...</td>\n",
       "      <td>NaN</td>\n",
       "      <td>NaN</td>\n",
       "      <td>NaN</td>\n",
       "      <td>NaN</td>\n",
       "      <td>NaN</td>\n",
       "      <td>NaN</td>\n",
       "      <td>NaN</td>\n",
       "      <td>NaN</td>\n",
       "      <td>NaN</td>\n",
       "      <td>NaN</td>\n",
       "    </tr>\n",
       "    <tr>\n",
       "      <th>2</th>\n",
       "      <td>NaN</td>\n",
       "      <td>NaN</td>\n",
       "      <td>NaN</td>\n",
       "      <td>NaN</td>\n",
       "      <td>NaN</td>\n",
       "      <td>NaN</td>\n",
       "      <td>NaN</td>\n",
       "      <td>NaN</td>\n",
       "      <td>NaN</td>\n",
       "      <td>4.0</td>\n",
       "      <td>...</td>\n",
       "      <td>NaN</td>\n",
       "      <td>NaN</td>\n",
       "      <td>NaN</td>\n",
       "      <td>NaN</td>\n",
       "      <td>NaN</td>\n",
       "      <td>NaN</td>\n",
       "      <td>NaN</td>\n",
       "      <td>NaN</td>\n",
       "      <td>NaN</td>\n",
       "      <td>NaN</td>\n",
       "    </tr>\n",
       "  </tbody>\n",
       "</table>\n",
       "<p>2 rows × 9066 columns</p>\n",
       "</div>"
      ],
      "text/plain": [
       "movieId  1       2       3       4       5       6       7       8       \\\n",
       "userId                                                                    \n",
       "1           NaN     NaN     NaN     NaN     NaN     NaN     NaN     NaN   \n",
       "2           NaN     NaN     NaN     NaN     NaN     NaN     NaN     NaN   \n",
       "\n",
       "movieId  9       10       ...    161084  161155  161594  161830  161918  \\\n",
       "userId                    ...                                             \n",
       "1           NaN     NaN   ...       NaN     NaN     NaN     NaN     NaN   \n",
       "2           NaN     4.0   ...       NaN     NaN     NaN     NaN     NaN   \n",
       "\n",
       "movieId  161944  162376  162542  162672  163949  \n",
       "userId                                           \n",
       "1           NaN     NaN     NaN     NaN     NaN  \n",
       "2           NaN     NaN     NaN     NaN     NaN  \n",
       "\n",
       "[2 rows x 9066 columns]"
      ]
     },
     "execution_count": 6,
     "metadata": {},
     "output_type": "execute_result"
    }
   ],
   "source": [
    "UM_matrix_ds.head(2)"
   ]
  },
  {
   "cell_type": "markdown",
   "metadata": {},
   "source": [
    "## 2. Neighborhood\n",
    "### test.csv에 존재하는 사용자들의 가장가까운 이웃 3명씩 찾기"
   ]
  },
  {
   "cell_type": "code",
   "execution_count": 7,
   "metadata": {
    "collapsed": true
   },
   "outputs": [],
   "source": [
    "import math\n",
    "from operator import itemgetter\n",
    "from scipy.spatial import distance\n",
    "\n",
    "def distance_cosine(a, b):\n",
    "    return 1-distance.cosine(a,b)\n",
    "\n",
    "def distance_correlation(a, b):\n",
    "    return 1-distance.correlation(a,b)\n",
    "\n",
    "def distance_euclidean(a, b):\n",
    "    return 1/(distance.euclidean(a,b)+1)"
   ]
  },
  {
   "cell_type": "code",
   "execution_count": 8,
   "metadata": {
    "collapsed": true
   },
   "outputs": [],
   "source": [
    "def nearest_neighbor_user(user, topN, simFunc):\n",
    "    u1 = UM_matrix_ds.loc[user].dropna()\n",
    "    ratedIndex = u1.index\n",
    "    nn = {}\n",
    "    \n",
    "    ## Brote Force Compute\n",
    "    for uid, row in UM_matrix_ds.iterrows():\n",
    "        interSectionU1 = []\n",
    "        interSectionU2 = []\n",
    "        \n",
    "        if uid == user:\n",
    "            continue\n",
    "            \n",
    "        for i in ratedIndex:\n",
    "            if False == math.isnan(row[i]):\n",
    "                interSectionU1.append(u1[i])\n",
    "                interSectionU2.append(row[i])\n",
    "        interSectionLen = len(interSectionU1)\n",
    "        \n",
    "        ## At least 3 intersection items\n",
    "        if interSectionLen < 3:\n",
    "            continue\n",
    "            \n",
    "        ## similarity function\n",
    "        sim = simFunc(interSectionU1, interSectionU2)\n",
    "        \n",
    "        if math.isnan(sim) == False:\n",
    "            nn[uid] = sim\n",
    "            \n",
    "    ## top N returned\n",
    "    return sorted(nn.items(), key=itemgetter(1))[:-(topN+1):-1]"
   ]
  },
  {
   "cell_type": "code",
   "execution_count": 9,
   "metadata": {},
   "outputs": [
    {
     "name": "stdout",
     "output_type": "stream",
     "text": [
      "[(354, 1.0), (115, 0.6666666666666666), (544, 0.585786437626905)]\n",
      "[(539, 0.38742588672279304), (50, 0.3761785115301142), (444, 0.3567891723253309)]\n",
      "[(634, 0.6666666666666666), (35, 0.38742588672279304), (1, 0.38742588672279304)]\n",
      "[(76, 1.0), (515, 0.585786437626905), (485, 0.585786437626905)]\n",
      "[(618, 1.0), (391, 0.6666666666666666), (211, 0.6666666666666666)]\n",
      "[(668, 0.585786437626905), (154, 0.585786437626905), (331, 0.5358983848622454)]\n",
      "[(631, 1.0), (252, 0.6666666666666666), (194, 0.6666666666666666)]\n",
      "[(397, 0.4142135623730951), (113, 0.32037724101704074), (129, 0.2989350844248255)]\n",
      "[(223, 1.0), (524, 0.585786437626905), (208, 0.5358983848622454)]\n",
      "[(459, 1.0), (246, 1.0), (46, 1.0)]\n"
     ]
    }
   ],
   "source": [
    "for user in test['userId']:\n",
    "    print(nearest_neighbor_user(user, 3, distance_euclidean))"
   ]
  },
  {
   "cell_type": "markdown",
   "metadata": {},
   "source": [
    "## 3. Prediction\n",
    "### test.csv에 존재하는 사용자와 영화의 별점 예측하기"
   ]
  },
  {
   "cell_type": "code",
   "execution_count": 10,
   "metadata": {
    "collapsed": true
   },
   "outputs": [],
   "source": [
    "def predictRating(userId, nn=50, simFunc=distance_euclidean):\n",
    "    \n",
    "    ## neighborhood\n",
    "    neighbor = nearest_neighbor_user(userId, nn, simFunc)\n",
    "    neighbor_id = [id for id, sim in neighbor]\n",
    "    \n",
    "    ## neighborhood's movie : at least 2 ratings\n",
    "    neighbor_movie = UM_matrix_ds.loc[neighbor_id]\\\n",
    "                    .dropna(1, how='all', thresh=2)\n",
    "    neighbor_dic = (dict(neighbor))\n",
    "    ret = [] # ['movieID', 'predictedRate']\n",
    "    \n",
    "    ## rating predict by my similarities\n",
    "    for movieId, row in neighbor_movie.iteritems():\n",
    "        jsum, wsum = 0, 0\n",
    "        for v in row.dropna().iteritems():\n",
    "            sim = neighbor_dic.get(v[0], 0)\n",
    "            jsum += sim\n",
    "            wsum += (v[1]*sim)\n",
    "        ret.append([movieId, wsum/jsum])\n",
    "        \n",
    "    return ret"
   ]
  },
  {
   "cell_type": "code",
   "execution_count": 11,
   "metadata": {
    "scrolled": true
   },
   "outputs": [
    {
     "data": {
      "text/plain": [
       "[[1356, 3.922699669840723],\n",
       " [71899, 4.0232232589460883],\n",
       " [73015, 2.6157764047649095],\n",
       " [4014, 3.8733547274404936],\n",
       " [555, 3.8939150951889747],\n",
       " [8528, 3.4441394985068077],\n",
       " [1527, 3.7088591186367594],\n",
       " [8492, 3.7010606733495583],\n",
       " [2662, 3.4987048340420013],\n",
       " [6212, 2.6968993025010404]]"
      ]
     },
     "execution_count": 11,
     "metadata": {},
     "output_type": "execute_result"
    }
   ],
   "source": [
    "rating_pred = []\n",
    "for user in test['userId']:\n",
    "    ans = predictRating(user, 10000)\n",
    "    for a in ans:\n",
    "        if a[0] == int(test.loc[test['userId'] == user]['movieId']):\n",
    "            rating_pred.append(a)\n",
    "rating_pred"
   ]
  },
  {
   "cell_type": "markdown",
   "metadata": {},
   "source": [
    "## 4. Accuracy\n",
    "### 예측 정확도 구하기"
   ]
  },
  {
   "cell_type": "code",
   "execution_count": 12,
   "metadata": {},
   "outputs": [
    {
     "data": {
      "text/plain": [
       "[[1356, 5.0],\n",
       " [71899, 3.0],\n",
       " [73015, 2.0],\n",
       " [4014, 4.5],\n",
       " [555, 3.5],\n",
       " [8528, 3.5],\n",
       " [1527, 3.0],\n",
       " [8492, 4.5],\n",
       " [2662, 3.0],\n",
       " [6212, 2.5]]"
      ]
     },
     "execution_count": 12,
     "metadata": {},
     "output_type": "execute_result"
    }
   ],
   "source": [
    "from sklearn.metrics import mean_squared_error\n",
    "from sklearn.metrics import mean_absolute_error\n",
    "\n",
    "rating_true = []\n",
    "\n",
    "for i in range(0, 10):\n",
    "    rating_true.append([int(test.iloc[i]['movieId']), test.iloc[i]['rating']])\n",
    "\n",
    "rating_true"
   ]
  },
  {
   "cell_type": "markdown",
   "metadata": {},
   "source": [
    "- Mean Square Error"
   ]
  },
  {
   "cell_type": "code",
   "execution_count": 13,
   "metadata": {},
   "outputs": [
    {
     "data": {
      "text/plain": [
       "array([ 0.        ,  0.45659774])"
      ]
     },
     "execution_count": 13,
     "metadata": {},
     "output_type": "execute_result"
    }
   ],
   "source": [
    "mean_squared_error(rating_true, rating_pred, multioutput='raw_values')"
   ]
  },
  {
   "cell_type": "markdown",
   "metadata": {},
   "source": [
    "- Mean Absolute Error"
   ]
  },
  {
   "cell_type": "code",
   "execution_count": 14,
   "metadata": {},
   "outputs": [
    {
     "data": {
      "text/plain": [
       "array([ 0.        ,  0.59961234])"
      ]
     },
     "execution_count": 14,
     "metadata": {},
     "output_type": "execute_result"
    }
   ],
   "source": [
    "mean_absolute_error(rating_true, rating_pred, multioutput='raw_values')"
   ]
  }
 ],
 "metadata": {
  "kernelspec": {
   "display_name": "Python 3",
   "language": "python",
   "name": "python3"
  },
  "language_info": {
   "codemirror_mode": {
    "name": "ipython",
    "version": 3
   },
   "file_extension": ".py",
   "mimetype": "text/x-python",
   "name": "python",
   "nbconvert_exporter": "python",
   "pygments_lexer": "ipython3",
   "version": "3.5.2"
  }
 },
 "nbformat": 4,
 "nbformat_minor": 2
}
