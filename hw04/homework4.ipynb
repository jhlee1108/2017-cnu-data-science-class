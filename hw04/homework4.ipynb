{
 "cells": [
  {
   "cell_type": "code",
   "execution_count": 1,
   "metadata": {
    "collapsed": true
   },
   "outputs": [],
   "source": [
    "import os\n",
    "import pandas as pd\n",
    "import json\n",
    "import seaborn as sns\n",
    "import matplotlib.pyplot as plt\n",
    "import matplotlib"
   ]
  },
  {
   "cell_type": "markdown",
   "metadata": {},
   "source": [
    "한글 깨짐 방지"
   ]
  },
  {
   "cell_type": "code",
   "execution_count": 2,
   "metadata": {
    "collapsed": true
   },
   "outputs": [],
   "source": [
    "matplotlib.rc('font', family='NanumBarunGothic')"
   ]
  },
  {
   "cell_type": "markdown",
   "metadata": {},
   "source": [
    "## 1. Top 10 걸음수 그래프 그리기\n",
    "데이터의 기간과 데이터가 있는 경로를 정하고 데이터를 저장할 데이터프레임을 만듭니다."
   ]
  },
  {
   "cell_type": "code",
   "execution_count": 3,
   "metadata": {},
   "outputs": [
    {
     "data": {
      "text/html": [
       "<div>\n",
       "<table border=\"1\" class=\"dataframe\">\n",
       "  <thead>\n",
       "    <tr style=\"text-align: right;\">\n",
       "      <th></th>\n",
       "    </tr>\n",
       "  </thead>\n",
       "  <tbody>\n",
       "    <tr>\n",
       "      <th>20160401</th>\n",
       "    </tr>\n",
       "    <tr>\n",
       "      <th>20160402</th>\n",
       "    </tr>\n",
       "    <tr>\n",
       "      <th>20160403</th>\n",
       "    </tr>\n",
       "    <tr>\n",
       "      <th>20160404</th>\n",
       "    </tr>\n",
       "    <tr>\n",
       "      <th>20160405</th>\n",
       "    </tr>\n",
       "  </tbody>\n",
       "</table>\n",
       "</div>"
      ],
      "text/plain": [
       "Empty DataFrame\n",
       "Columns: []\n",
       "Index: [20160401, 20160402, 20160403, 20160404, 20160405]"
      ]
     },
     "execution_count": 3,
     "metadata": {},
     "output_type": "execute_result"
    }
   ],
   "source": [
    "dates = pd.date_range('20160401', '20160520').strftime('%Y%m%d')\n",
    "directory_path = 'sokulee/'\n",
    "df_steps = pd.DataFrame(index=dates)\n",
    "df_steps.head()"
   ]
  },
  {
   "cell_type": "markdown",
   "metadata": {},
   "source": [
    "1~100번 유저에 대해 해당 유저의 디렉토리가 존재하면 날짜별 steps.json파일을 읽어 총 걸음수를 저장합니다."
   ]
  },
  {
   "cell_type": "code",
   "execution_count": 4,
   "metadata": {},
   "outputs": [
    {
     "data": {
      "text/html": [
       "<div>\n",
       "<table border=\"1\" class=\"dataframe\">\n",
       "  <thead>\n",
       "    <tr style=\"text-align: right;\">\n",
       "      <th></th>\n",
       "      <th>A01</th>\n",
       "      <th>A02</th>\n",
       "      <th>A03</th>\n",
       "      <th>A04</th>\n",
       "      <th>A05</th>\n",
       "      <th>A06</th>\n",
       "      <th>A07</th>\n",
       "      <th>A08</th>\n",
       "      <th>A010</th>\n",
       "      <th>A016</th>\n",
       "      <th>...</th>\n",
       "      <th>A080</th>\n",
       "      <th>A081</th>\n",
       "      <th>A083</th>\n",
       "      <th>A084</th>\n",
       "      <th>A092</th>\n",
       "      <th>A093</th>\n",
       "      <th>A094</th>\n",
       "      <th>A096</th>\n",
       "      <th>A097</th>\n",
       "      <th>A098</th>\n",
       "    </tr>\n",
       "  </thead>\n",
       "  <tbody>\n",
       "    <tr>\n",
       "      <th>20160401</th>\n",
       "      <td>13468</td>\n",
       "      <td>5877</td>\n",
       "      <td>9282</td>\n",
       "      <td>15263</td>\n",
       "      <td>10805</td>\n",
       "      <td>17250</td>\n",
       "      <td>17993</td>\n",
       "      <td>0</td>\n",
       "      <td>4296</td>\n",
       "      <td>20006</td>\n",
       "      <td>...</td>\n",
       "      <td>15654</td>\n",
       "      <td>12859</td>\n",
       "      <td>11970</td>\n",
       "      <td>17038</td>\n",
       "      <td>20023</td>\n",
       "      <td>11040</td>\n",
       "      <td>13572</td>\n",
       "      <td>12123</td>\n",
       "      <td>2342</td>\n",
       "      <td>0</td>\n",
       "    </tr>\n",
       "    <tr>\n",
       "      <th>20160402</th>\n",
       "      <td>9446</td>\n",
       "      <td>4109</td>\n",
       "      <td>9255</td>\n",
       "      <td>8080</td>\n",
       "      <td>472</td>\n",
       "      <td>19239</td>\n",
       "      <td>2856</td>\n",
       "      <td>6750</td>\n",
       "      <td>640</td>\n",
       "      <td>24004</td>\n",
       "      <td>...</td>\n",
       "      <td>8358</td>\n",
       "      <td>4413</td>\n",
       "      <td>7766</td>\n",
       "      <td>6914</td>\n",
       "      <td>2557</td>\n",
       "      <td>3334</td>\n",
       "      <td>5975</td>\n",
       "      <td>15756</td>\n",
       "      <td>8278</td>\n",
       "      <td>0</td>\n",
       "    </tr>\n",
       "    <tr>\n",
       "      <th>20160403</th>\n",
       "      <td>6084</td>\n",
       "      <td>5447</td>\n",
       "      <td>7447</td>\n",
       "      <td>6144</td>\n",
       "      <td>1258</td>\n",
       "      <td>15678</td>\n",
       "      <td>8058</td>\n",
       "      <td>14115</td>\n",
       "      <td>2096</td>\n",
       "      <td>11467</td>\n",
       "      <td>...</td>\n",
       "      <td>1059</td>\n",
       "      <td>3412</td>\n",
       "      <td>13763</td>\n",
       "      <td>23013</td>\n",
       "      <td>6144</td>\n",
       "      <td>9984</td>\n",
       "      <td>13565</td>\n",
       "      <td>1044</td>\n",
       "      <td>472</td>\n",
       "      <td>0</td>\n",
       "    </tr>\n",
       "    <tr>\n",
       "      <th>20160404</th>\n",
       "      <td>20283</td>\n",
       "      <td>12388</td>\n",
       "      <td>6140</td>\n",
       "      <td>22445</td>\n",
       "      <td>21992</td>\n",
       "      <td>32130</td>\n",
       "      <td>19785</td>\n",
       "      <td>22755</td>\n",
       "      <td>8213</td>\n",
       "      <td>16742</td>\n",
       "      <td>...</td>\n",
       "      <td>15038</td>\n",
       "      <td>10019</td>\n",
       "      <td>13018</td>\n",
       "      <td>14963</td>\n",
       "      <td>11401</td>\n",
       "      <td>13613</td>\n",
       "      <td>20958</td>\n",
       "      <td>21494</td>\n",
       "      <td>10216</td>\n",
       "      <td>0</td>\n",
       "    </tr>\n",
       "    <tr>\n",
       "      <th>20160405</th>\n",
       "      <td>12881</td>\n",
       "      <td>7755</td>\n",
       "      <td>10926</td>\n",
       "      <td>17673</td>\n",
       "      <td>26202</td>\n",
       "      <td>19950</td>\n",
       "      <td>17620</td>\n",
       "      <td>12980</td>\n",
       "      <td>12402</td>\n",
       "      <td>20022</td>\n",
       "      <td>...</td>\n",
       "      <td>11730</td>\n",
       "      <td>6736</td>\n",
       "      <td>14583</td>\n",
       "      <td>6792</td>\n",
       "      <td>15548</td>\n",
       "      <td>16839</td>\n",
       "      <td>12058</td>\n",
       "      <td>17585</td>\n",
       "      <td>6223</td>\n",
       "      <td>0</td>\n",
       "    </tr>\n",
       "  </tbody>\n",
       "</table>\n",
       "<p>5 rows × 68 columns</p>\n",
       "</div>"
      ],
      "text/plain": [
       "            A01    A02    A03    A04    A05    A06    A07    A08   A010  \\\n",
       "20160401  13468   5877   9282  15263  10805  17250  17993      0   4296   \n",
       "20160402   9446   4109   9255   8080    472  19239   2856   6750    640   \n",
       "20160403   6084   5447   7447   6144   1258  15678   8058  14115   2096   \n",
       "20160404  20283  12388   6140  22445  21992  32130  19785  22755   8213   \n",
       "20160405  12881   7755  10926  17673  26202  19950  17620  12980  12402   \n",
       "\n",
       "           A016  ...    A080   A081   A083   A084   A092   A093   A094   A096  \\\n",
       "20160401  20006  ...   15654  12859  11970  17038  20023  11040  13572  12123   \n",
       "20160402  24004  ...    8358   4413   7766   6914   2557   3334   5975  15756   \n",
       "20160403  11467  ...    1059   3412  13763  23013   6144   9984  13565   1044   \n",
       "20160404  16742  ...   15038  10019  13018  14963  11401  13613  20958  21494   \n",
       "20160405  20022  ...   11730   6736  14583   6792  15548  16839  12058  17585   \n",
       "\n",
       "           A097  A098  \n",
       "20160401   2342     0  \n",
       "20160402   8278     0  \n",
       "20160403    472     0  \n",
       "20160404  10216     0  \n",
       "20160405   6223     0  \n",
       "\n",
       "[5 rows x 68 columns]"
      ]
     },
     "execution_count": 4,
     "metadata": {},
     "output_type": "execute_result"
    }
   ],
   "source": [
    "for n in range(1,100):\n",
    "    name = 'A0' + str(n)\n",
    "    directory_name = directory_path + name\n",
    "    total_steps = list()\n",
    "\n",
    "    if os.path.exists(directory_name):\n",
    "        for date in dates:\n",
    "            f_steps_path = directory_name + '/' + name + '_' + date + '_steps.json'\n",
    "\n",
    "            try : \n",
    "                f_steps = open(f_steps_path)\n",
    "            except IOError as e:\n",
    "                total_steps.append(0)\n",
    "            else:\n",
    "                data_steps = json.loads(f_steps.read())\n",
    "\n",
    "                try :\n",
    "                    total_steps.append(int(data_steps['activities-steps'][0]['value']))\n",
    "                except KeyError as e:\n",
    "                    total_steps.append(0)\n",
    "\n",
    "        df_steps[name] = total_steps\n",
    "df_steps.head()"
   ]
  },
  {
   "cell_type": "markdown",
   "metadata": {},
   "source": [
    "각 유저의 날짜별 총 걸음수를 더해 유저ID를 인덱스로 하는 데이터프레임에 저장합니다."
   ]
  },
  {
   "cell_type": "code",
   "execution_count": 5,
   "metadata": {
    "scrolled": false
   },
   "outputs": [
    {
     "data": {
      "text/html": [
       "<div>\n",
       "<table border=\"1\" class=\"dataframe\">\n",
       "  <thead>\n",
       "    <tr style=\"text-align: right;\">\n",
       "      <th></th>\n",
       "      <th>total_steps</th>\n",
       "    </tr>\n",
       "  </thead>\n",
       "  <tbody>\n",
       "    <tr>\n",
       "      <th>A01</th>\n",
       "      <td>351518</td>\n",
       "    </tr>\n",
       "    <tr>\n",
       "      <th>A02</th>\n",
       "      <td>317873</td>\n",
       "    </tr>\n",
       "    <tr>\n",
       "      <th>A03</th>\n",
       "      <td>391302</td>\n",
       "    </tr>\n",
       "    <tr>\n",
       "      <th>A04</th>\n",
       "      <td>667043</td>\n",
       "    </tr>\n",
       "    <tr>\n",
       "      <th>A05</th>\n",
       "      <td>205815</td>\n",
       "    </tr>\n",
       "  </tbody>\n",
       "</table>\n",
       "</div>"
      ],
      "text/plain": [
       "     total_steps\n",
       "A01       351518\n",
       "A02       317873\n",
       "A03       391302\n",
       "A04       667043\n",
       "A05       205815"
      ]
     },
     "execution_count": 5,
     "metadata": {},
     "output_type": "execute_result"
    }
   ],
   "source": [
    "df_total_steps = pd.DataFrame(data=df_steps.sum(axis=0), index=df_steps.columns, columns=['total_steps'])\n",
    "df_total_steps.head()"
   ]
  },
  {
   "cell_type": "markdown",
   "metadata": {},
   "source": [
    "총 걸음수를 내림차순으로 정렬합니다."
   ]
  },
  {
   "cell_type": "code",
   "execution_count": 6,
   "metadata": {},
   "outputs": [
    {
     "data": {
      "text/html": [
       "<div>\n",
       "<table border=\"1\" class=\"dataframe\">\n",
       "  <thead>\n",
       "    <tr style=\"text-align: right;\">\n",
       "      <th></th>\n",
       "      <th>total_steps</th>\n",
       "    </tr>\n",
       "  </thead>\n",
       "  <tbody>\n",
       "    <tr>\n",
       "      <th>A025</th>\n",
       "      <td>1083320</td>\n",
       "    </tr>\n",
       "    <tr>\n",
       "      <th>A026</th>\n",
       "      <td>1070291</td>\n",
       "    </tr>\n",
       "    <tr>\n",
       "      <th>A043</th>\n",
       "      <td>974336</td>\n",
       "    </tr>\n",
       "    <tr>\n",
       "      <th>A045</th>\n",
       "      <td>835907</td>\n",
       "    </tr>\n",
       "    <tr>\n",
       "      <th>A062</th>\n",
       "      <td>816567</td>\n",
       "    </tr>\n",
       "  </tbody>\n",
       "</table>\n",
       "</div>"
      ],
      "text/plain": [
       "      total_steps\n",
       "A025      1083320\n",
       "A026      1070291\n",
       "A043       974336\n",
       "A045       835907\n",
       "A062       816567"
      ]
     },
     "execution_count": 6,
     "metadata": {},
     "output_type": "execute_result"
    }
   ],
   "source": [
    "df_total_steps.sort_values(by=['total_steps'], inplace=True, ascending=False)\n",
    "df_total_steps.head()"
   ]
  },
  {
   "cell_type": "markdown",
   "metadata": {},
   "source": [
    "상위 10개를 뽑아 top 10 걸음수를 만듭니다."
   ]
  },
  {
   "cell_type": "code",
   "execution_count": 7,
   "metadata": {},
   "outputs": [
    {
     "data": {
      "text/html": [
       "<div>\n",
       "<table border=\"1\" class=\"dataframe\">\n",
       "  <thead>\n",
       "    <tr style=\"text-align: right;\">\n",
       "      <th></th>\n",
       "      <th>total_steps</th>\n",
       "    </tr>\n",
       "  </thead>\n",
       "  <tbody>\n",
       "    <tr>\n",
       "      <th>A025</th>\n",
       "      <td>1083320</td>\n",
       "    </tr>\n",
       "    <tr>\n",
       "      <th>A026</th>\n",
       "      <td>1070291</td>\n",
       "    </tr>\n",
       "    <tr>\n",
       "      <th>A043</th>\n",
       "      <td>974336</td>\n",
       "    </tr>\n",
       "    <tr>\n",
       "      <th>A045</th>\n",
       "      <td>835907</td>\n",
       "    </tr>\n",
       "    <tr>\n",
       "      <th>A062</th>\n",
       "      <td>816567</td>\n",
       "    </tr>\n",
       "    <tr>\n",
       "      <th>A054</th>\n",
       "      <td>810861</td>\n",
       "    </tr>\n",
       "    <tr>\n",
       "      <th>A083</th>\n",
       "      <td>802587</td>\n",
       "    </tr>\n",
       "    <tr>\n",
       "      <th>A019</th>\n",
       "      <td>802587</td>\n",
       "    </tr>\n",
       "    <tr>\n",
       "      <th>A018</th>\n",
       "      <td>800509</td>\n",
       "    </tr>\n",
       "    <tr>\n",
       "      <th>A038</th>\n",
       "      <td>775284</td>\n",
       "    </tr>\n",
       "  </tbody>\n",
       "</table>\n",
       "</div>"
      ],
      "text/plain": [
       "      total_steps\n",
       "A025      1083320\n",
       "A026      1070291\n",
       "A043       974336\n",
       "A045       835907\n",
       "A062       816567\n",
       "A054       810861\n",
       "A083       802587\n",
       "A019       802587\n",
       "A018       800509\n",
       "A038       775284"
      ]
     },
     "execution_count": 7,
     "metadata": {},
     "output_type": "execute_result"
    }
   ],
   "source": [
    "top10_steps = df_total_steps[:10]\n",
    "top10_steps"
   ]
  },
  {
   "cell_type": "code",
   "execution_count": 8,
   "metadata": {},
   "outputs": [
    {
     "data": {
      "image/png": "[encoded data removed]",
      "text/plain": [
       "<matplotlib.figure.Figure at 0x7f14fe46a710>"
      ]
     },
     "metadata": {},
     "output_type": "display_data"
    }
   ],
   "source": [
    "sns.barplot(x=top10_steps.index, y='total_steps', data=top10_steps)\n",
    "plt.title('Top 10 걸음수')\n",
    "plt.ylabel('')\n",
    "plt.show()"
   ]
  },
  {
   "cell_type": "markdown",
   "metadata": {},
   "source": [
    "## 2. 아침형 인간과 야행성 인간 구별하기\n",
    "각 유저의 날짜별 sleep.json파일을 읽어서 잠든 시간과 일어난 시간의 평균을 냅니다.<br>\n",
    "10시 이전에 잠든 경우는 평균을 00시에 가깝게 하기 위해 24를 더해준 값으로 평균을 냅니다.<br>\n",
    "평균 시간이 24를 넘는 경우 24를 빼줍니다."
   ]
  },
  {
   "cell_type": "code",
   "execution_count": 9,
   "metadata": {},
   "outputs": [
    {
     "data": {
      "text/html": [
       "<div>\n",
       "<table border=\"1\" class=\"dataframe\">\n",
       "  <thead>\n",
       "    <tr style=\"text-align: right;\">\n",
       "      <th></th>\n",
       "      <th>start</th>\n",
       "      <th>end</th>\n",
       "    </tr>\n",
       "  </thead>\n",
       "  <tbody>\n",
       "    <tr>\n",
       "      <th>A01</th>\n",
       "      <td>23.705882</td>\n",
       "      <td>10.441176</td>\n",
       "    </tr>\n",
       "    <tr>\n",
       "      <th>A02</th>\n",
       "      <td>23.000000</td>\n",
       "      <td>11.482759</td>\n",
       "    </tr>\n",
       "    <tr>\n",
       "      <th>A03</th>\n",
       "      <td>1.280000</td>\n",
       "      <td>8.800000</td>\n",
       "    </tr>\n",
       "    <tr>\n",
       "      <th>A04</th>\n",
       "      <td>1.473684</td>\n",
       "      <td>10.017544</td>\n",
       "    </tr>\n",
       "    <tr>\n",
       "      <th>A05</th>\n",
       "      <td>0.250000</td>\n",
       "      <td>6.750000</td>\n",
       "    </tr>\n",
       "  </tbody>\n",
       "</table>\n",
       "</div>"
      ],
      "text/plain": [
       "         start        end\n",
       "A01  23.705882  10.441176\n",
       "A02  23.000000  11.482759\n",
       "A03   1.280000   8.800000\n",
       "A04   1.473684  10.017544\n",
       "A05   0.250000   6.750000"
      ]
     },
     "execution_count": 9,
     "metadata": {},
     "output_type": "execute_result"
    }
   ],
   "source": [
    "df_sleep = pd.DataFrame()\n",
    "names = list()\n",
    "start_sleep_mean = list()\n",
    "end_sleep_mean = list()\n",
    "\n",
    "for n in range(1,100):\n",
    "    name = 'A0' + str(n)\n",
    "    directory_name = directory_path + name\n",
    "    start_sleep = list()\n",
    "    end_sleep = list()\n",
    "\n",
    "    if os.path.exists(directory_name):\n",
    "        names.append(name)\n",
    "\n",
    "        for date in dates:\n",
    "            f_sleep_path = directory_name + '/' + name + '_' + date + '_sleep.json'\n",
    "            try: \n",
    "                f_sleep = open(f_sleep_path)\n",
    "            except IOError as e:\n",
    "                continue\n",
    "            else:\n",
    "                json_sleep = json.loads(f_sleep.read())\n",
    "                try: \n",
    "                    data_sleep = json_sleep['sleep']\n",
    "                except KeyError as e:\n",
    "                    continue\n",
    "                except IndexError as e:\n",
    "                    continue\n",
    "                else:\n",
    "                    prev_time_to_wake_up = -10 # init prev_time_to_wake_up\n",
    "                    for t in data_sleep:\n",
    "                        time_to_sleep = int(t['minuteData'][0]['dateTime'][:2])\n",
    "                        time_to_wake_up = int(t['minuteData'][-1]['dateTime'][:2])\n",
    "\n",
    "                        if time_to_sleep <= 10:\n",
    "                            time_to_sleep += 24\n",
    "\n",
    "                        if time_to_sleep - prev_time_to_wake_up <= 2:\n",
    "                            end_sleep[len(end_sleep)-1] = time_to_wake_up\n",
    "                        else:\n",
    "                            start_sleep.append(time_to_sleep)\n",
    "                            end_sleep.append(time_to_wake_up)\n",
    "\n",
    "                        prev_time_to_wake_up = time_to_wake_up\n",
    "\n",
    "        mean_time_to_sleep = sum(start_sleep)/len(start_sleep)\n",
    "        mean_time_to_wake_up = sum(end_sleep)/len(end_sleep)\n",
    "        if mean_time_to_sleep >= 24:\n",
    "            mean_time_to_sleep -= 24\n",
    "        start_sleep_mean.append(mean_time_to_sleep)\n",
    "        end_sleep_mean.append(mean_time_to_wake_up)\n",
    "\n",
    "df_sleep['start'] = start_sleep_mean\n",
    "df_sleep['end'] = end_sleep_mean\n",
    "df_sleep.index = names\n",
    "df_sleep.head()\n"
   ]
  },
  {
   "cell_type": "markdown",
   "metadata": {},
   "source": [
    "대부분이 새벽 0시 ~ 3시 사이에 자고, 아침 9시 ~ 11시에 일어나는 것을 확인할 수 있습니다."
   ]
  },
  {
   "cell_type": "code",
   "execution_count": 10,
   "metadata": {},
   "outputs": [
    {
     "data": {
      "image/png": "[encoded data removed]",
      "text/plain": [
       "<matplotlib.figure.Figure at 0x7f14fc02e5c0>"
      ]
     },
     "metadata": {},
     "output_type": "display_data"
    }
   ],
   "source": [
    "sns.jointplot(x='start', y='end', data=df_sleep, size=10, color=\"g\")\n",
    "plt.show()"
   ]
  }
 ],
 "metadata": {
  "kernelspec": {
   "display_name": "Python 3",
   "language": "python",
   "name": "python3"
  },
  "language_info": {
   "codemirror_mode": {
    "name": "ipython",
    "version": 3
   },
   "file_extension": ".py",
   "mimetype": "text/x-python",
   "name": "python",
   "nbconvert_exporter": "python",
   "pygments_lexer": "ipython3",
   "version": "3.5.2"
  }
 },
 "nbformat": 4,
 "nbformat_minor": 2
}
