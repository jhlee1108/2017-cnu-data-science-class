{
 "cells": [
  {
   "cell_type": "markdown",
   "metadata": {},
   "source": [
    "# Item based collaborative filtering"
   ]
  },
  {
   "cell_type": "code",
   "execution_count": 165,
   "metadata": {},
   "outputs": [],
   "source": [
    "import pandas as pd\n",
    "from collections import defaultdict\n",
    "%matplotlib inline"
   ]
  },
  {
   "cell_type": "markdown",
   "metadata": {},
   "source": [
    "- 데이터가 있는 디렉토리 경로 설정"
   ]
  },
  {
   "cell_type": "code",
   "execution_count": 166,
   "metadata": {},
   "outputs": [],
   "source": [
    "home_dir = './music-ds/'"
   ]
  },
  {
   "cell_type": "markdown",
   "metadata": {},
   "source": [
    "## CSV파일을 읽어 데이터프레임 만들기"
   ]
  },
  {
   "cell_type": "code",
   "execution_count": 167,
   "metadata": {},
   "outputs": [],
   "source": [
    "## music streaming log data\n",
    "streamings = pd.read_csv(home_dir+'streaming_ds.csv', \n",
    "                                names = ['MEM_UNO', 'SONG_ID', 'ARTIST_ID', 'GENRE_CODE', 'REG_DATE'], index_col = 1)\n",
    "#streamings = streamings.convert_objects(convert_numeric=True).dropna()\n",
    "genre = pd.read_csv(home_dir+'genre.csv', \n",
    "                              names = ['GENRE_CODE', 'GENRE_NAME'], index_col = 0)\n",
    "artist = pd.read_csv(home_dir+'artist.csv', \n",
    "                              names = ['ARTIST_ID', 'ARTIST_NAME'], index_col = 0)"
   ]
  },
  {
   "cell_type": "code",
   "execution_count": 169,
   "metadata": {},
   "outputs": [
    {
     "data": {
      "text/html": [
       "<div>\n",
       "<table border=\"1\" class=\"dataframe\">\n",
       "  <thead>\n",
       "    <tr style=\"text-align: right;\">\n",
       "      <th></th>\n",
       "      <th>MEM_UNO</th>\n",
       "      <th>ARTIST_ID</th>\n",
       "      <th>GENRE_CODE</th>\n",
       "      <th>REG_DATE</th>\n",
       "    </tr>\n",
       "    <tr>\n",
       "      <th>SONG_ID</th>\n",
       "      <th></th>\n",
       "      <th></th>\n",
       "      <th></th>\n",
       "      <th></th>\n",
       "    </tr>\n",
       "  </thead>\n",
       "  <tbody>\n",
       "    <tr>\n",
       "      <th>15961709</th>\n",
       "      <td>302774898</td>\n",
       "      <td>14948305</td>\n",
       "      <td>L0602</td>\n",
       "      <td>20150901081803</td>\n",
       "    </tr>\n",
       "    <tr>\n",
       "      <th>15961710</th>\n",
       "      <td>305823986</td>\n",
       "      <td>14948305</td>\n",
       "      <td>L0602</td>\n",
       "      <td>20150901084922</td>\n",
       "    </tr>\n",
       "    <tr>\n",
       "      <th>15962335</th>\n",
       "      <td>303507290</td>\n",
       "      <td>14945136</td>\n",
       "      <td>L0902</td>\n",
       "      <td>20150901081553</td>\n",
       "    </tr>\n",
       "    <tr>\n",
       "      <th>15962336</th>\n",
       "      <td>303519720</td>\n",
       "      <td>14945123</td>\n",
       "      <td>L0902</td>\n",
       "      <td>20150901080234</td>\n",
       "    </tr>\n",
       "    <tr>\n",
       "      <th>15962336</th>\n",
       "      <td>301688860</td>\n",
       "      <td>14945123</td>\n",
       "      <td>L0902</td>\n",
       "      <td>20150901080406</td>\n",
       "    </tr>\n",
       "  </tbody>\n",
       "</table>\n",
       "</div>"
      ],
      "text/plain": [
       "            MEM_UNO  ARTIST_ID GENRE_CODE        REG_DATE\n",
       "SONG_ID                                                  \n",
       "15961709  302774898   14948305      L0602  20150901081803\n",
       "15961710  305823986   14948305      L0602  20150901084922\n",
       "15962335  303507290   14945136      L0902  20150901081553\n",
       "15962336  303519720   14945123      L0902  20150901080234\n",
       "15962336  301688860   14945123      L0902  20150901080406"
      ]
     },
     "execution_count": 169,
     "metadata": {},
     "output_type": "execute_result"
    }
   ],
   "source": [
    "streamings.head()"
   ]
  },
  {
   "cell_type": "code",
   "execution_count": 170,
   "metadata": {},
   "outputs": [
    {
     "data": {
      "text/html": [
       "<div>\n",
       "<table border=\"1\" class=\"dataframe\">\n",
       "  <thead>\n",
       "    <tr style=\"text-align: right;\">\n",
       "      <th></th>\n",
       "      <th>GENRE_NAME</th>\n",
       "    </tr>\n",
       "    <tr>\n",
       "      <th>GENRE_CODE</th>\n",
       "      <th></th>\n",
       "    </tr>\n",
       "  </thead>\n",
       "  <tbody>\n",
       "    <tr>\n",
       "      <th>L0001</th>\n",
       "      <td>유선</td>\n",
       "    </tr>\n",
       "    <tr>\n",
       "      <th>L0002</th>\n",
       "      <td>무선</td>\n",
       "    </tr>\n",
       "    <tr>\n",
       "      <th>L0003</th>\n",
       "      <td>내부</td>\n",
       "    </tr>\n",
       "    <tr>\n",
       "      <th>L0004</th>\n",
       "      <td>외부</td>\n",
       "    </tr>\n",
       "    <tr>\n",
       "      <th>L0005</th>\n",
       "      <td>WEB</td>\n",
       "    </tr>\n",
       "  </tbody>\n",
       "</table>\n",
       "</div>"
      ],
      "text/plain": [
       "           GENRE_NAME\n",
       "GENRE_CODE           \n",
       "L0001              유선\n",
       "L0002              무선\n",
       "L0003              내부\n",
       "L0004              외부\n",
       "L0005             WEB"
      ]
     },
     "execution_count": 170,
     "metadata": {},
     "output_type": "execute_result"
    }
   ],
   "source": [
    "genre.head()"
   ]
  },
  {
   "cell_type": "code",
   "execution_count": 171,
   "metadata": {},
   "outputs": [
    {
     "data": {
      "text/html": [
       "<div>\n",
       "<table border=\"1\" class=\"dataframe\">\n",
       "  <thead>\n",
       "    <tr style=\"text-align: right;\">\n",
       "      <th></th>\n",
       "      <th>ARTIST_NAME</th>\n",
       "    </tr>\n",
       "    <tr>\n",
       "      <th>ARTIST_ID</th>\n",
       "      <th></th>\n",
       "    </tr>\n",
       "  </thead>\n",
       "  <tbody>\n",
       "    <tr>\n",
       "      <th>14935950</th>\n",
       "      <td>방실이</td>\n",
       "    </tr>\n",
       "    <tr>\n",
       "      <th>14935951</th>\n",
       "      <td>이예린</td>\n",
       "    </tr>\n",
       "    <tr>\n",
       "      <th>14935952</th>\n",
       "      <td>신윤정</td>\n",
       "    </tr>\n",
       "    <tr>\n",
       "      <th>14935953</th>\n",
       "      <td>제이 (J.ae)</td>\n",
       "    </tr>\n",
       "    <tr>\n",
       "      <th>14935954</th>\n",
       "      <td>장혜진</td>\n",
       "    </tr>\n",
       "  </tbody>\n",
       "</table>\n",
       "</div>"
      ],
      "text/plain": [
       "          ARTIST_NAME\n",
       "ARTIST_ID            \n",
       "14935950          방실이\n",
       "14935951          이예린\n",
       "14935952          신윤정\n",
       "14935953    제이 (J.ae)\n",
       "14935954          장혜진"
      ]
     },
     "execution_count": 171,
     "metadata": {},
     "output_type": "execute_result"
    }
   ],
   "source": [
    "artist.head()"
   ]
  },
  {
   "cell_type": "markdown",
   "metadata": {},
   "source": [
    "## 유저별 음원 set 만들기"
   ]
  },
  {
   "cell_type": "code",
   "execution_count": 172,
   "metadata": {},
   "outputs": [],
   "source": [
    "#music_user_dict\n",
    "music_user_dict = defaultdict(set)\n",
    "for idx, row in streamings[:].iterrows():\n",
    "    music_user_dict[idx].add(int(row.MEM_UNO))"
   ]
  },
  {
   "cell_type": "markdown",
   "metadata": {},
   "source": [
    "## 유사한 음원 찾기"
   ]
  },
  {
   "cell_type": "code",
   "execution_count": 173,
   "metadata": {
    "collapsed": true
   },
   "outputs": [],
   "source": [
    "def nearest_neighbors(song_id, topn=10, threshold=3 ):\n",
    "    item1 = music_user_dict[song_id]\n",
    "    if len(item1) < threshold:\n",
    "        return []\n",
    "    nn = []\n",
    "    for song_id2, item2 in music_user_dict.items():\n",
    "        intersections = len(item1.intersection(item2))\n",
    "        if intersections == 0 or song_id2 == song_id:\n",
    "            continue\n",
    "        unions = len(item1.union(item2))+1\n",
    "        similarity = intersections / unions \n",
    "        nn.append([song_id2,similarity])\n",
    "    return sorted(nn,key=lambda x: x[1], reverse=True)[:topn]\n",
    "\n",
    "def print_artist(song_list):\n",
    "    for song in song_list:\n",
    "        try:\n",
    "            if type(song) in { tuple, list} :\n",
    "                song = song[0]\n",
    "            song = int(song)\n",
    "            artist_id = streamings.loc[song][:1].ARTIST_ID.tolist()[0]\n",
    "            n = artist.loc[artist_id]['ARTIST_NAME']\n",
    "            print(song, n)\n",
    "        except:\n",
    "            print(song, 'no-artist')"
   ]
  },
  {
   "cell_type": "code",
   "execution_count": 174,
   "metadata": {},
   "outputs": [
    {
     "name": "stdout",
     "output_type": "stream",
     "text": [
      "84699045 원더걸스 (Wonder Girls)\n",
      "84686902 BIGBANG\n",
      "84581811 여자친구 (GFRIEND)\n",
      "84568778 Apink (에이핑크)\n",
      "84201067 BIGBANG\n",
      "84847396 현아 (4Minute)\n",
      "84369985 마마무\n",
      "84168515 혁오 (hyukoh)\n",
      "84372538 씨스타 (Sistar)\n",
      "84372192 AOA\n",
      "84686903 BIGBANG\n",
      "84059724 Zion.T\n",
      "84760929 Simon Dominic\n",
      "84064039 백아연\n",
      "82821208 Zion.T\n",
      "84699325 자메즈 & 앤덥 & 송민호\n",
      "84801754 소녀시대\n",
      "84822793 SG워너비\n",
      "84672668 유승우\n",
      "84822791 SG워너비\n",
      "82812257 혁오 (hyukoh)\n"
     ]
    }
   ],
   "source": [
    "## 84699045 원더걸스 (Wonder Girls) 유사한 음원은?\n",
    "ret = nearest_neighbors(84699045, topn=20)\n",
    "print_artist([84699045]+ret)"
   ]
  },
  {
   "cell_type": "markdown",
   "metadata": {},
   "source": [
    "## 유저의 관심도를 이용하여 음원 추천하기"
   ]
  },
  {
   "cell_type": "code",
   "execution_count": 175,
   "metadata": {
    "collapsed": true
   },
   "outputs": [],
   "source": [
    "def user_interests(uno):\n",
    "    return streamings[streamings.MEM_UNO==uno].index.tolist()\n",
    "    \n",
    "def cal_score(sim, pre_score):\n",
    "    return  sim if pre_score < sim else pre_score\n",
    "    \n",
    "def recommend_music(uno, topn=10):\n",
    "    musics = defaultdict(float)\n",
    "    interests = user_interests(uno)\n",
    "    for song in interests:\n",
    "        neighbors = nearest_neighbors(song)\n",
    "        for (song2, sim) in neighbors:\n",
    "            #if song2 in interests:\n",
    "            #    continue\n",
    "            pre = musics.get(song2, 0.0)\n",
    "            musics[song2] = cal_score(sim, pre)\n",
    "\n",
    "    return {'recommended' : sorted(musics.items(), key=lambda x: x[1], reverse=True)[:topn],\n",
    "            'seens':interests}"
   ]
  },
  {
   "cell_type": "code",
   "execution_count": 176,
   "metadata": {},
   "outputs": [
    {
     "name": "stdout",
     "output_type": "stream",
     "text": [
      "*** 추천 음악 ***\n",
      "80696497 씨야 (SeeYa)\n",
      "16098763 뱅크\n",
      "75195354 플라이 투 더 스카이 (Fly To The Sky)\n",
      "16128654 이기찬\n",
      "48197709 엠씨더맥스 (M.C the MAX)\n",
      "81028747 김연우\n",
      "16131081 윤미래 (T)\n",
      "52802787 프리스타일 (Free Style)\n",
      "16174214 유엔 (UN)\n",
      "16178434 SG워너비\n",
      "42299486 Boyz II Men\n",
      "80594467 Boyz II Men\n",
      "16174405 no-artist\n",
      "49619408 no-artist\n",
      "49619412 no-artist\n",
      "49619413 no-artist\n",
      "49619440 no-artist\n",
      "49619442 no-artist\n",
      "49619443 no-artist\n",
      "49619449 no-artist\n",
      "*** 시청한 음악 ***\n",
      "15965255 no-artist\n",
      "16186222 테이 (Tei)\n",
      "17465599 버즈 (Buzz)\n",
      "40207122 하동균\n",
      "49619416 Boyz II Men\n",
      "82872166 비스트 (Beast)\n",
      "83360622 제아 (브라운아이드걸스)\n"
     ]
    }
   ],
   "source": [
    "ret = recommend_music(301863475, topn=20)\n",
    "print('*** 추천 음악 ***')\n",
    "print_artist(ret['recommended'])\n",
    "print('*** 시청한 음악 ***')\n",
    "print_artist(ret['seens'])"
   ]
  }
 ],
 "metadata": {
  "kernelspec": {
   "display_name": "Python 3",
   "language": "python",
   "name": "python3"
  },
  "language_info": {
   "codemirror_mode": {
    "name": "ipython",
    "version": 3
   },
   "file_extension": ".py",
   "mimetype": "text/x-python",
   "name": "python",
   "nbconvert_exporter": "python",
   "pygments_lexer": "ipython3",
   "version": "3.5.2"
  }
 },
 "nbformat": 4,
 "nbformat_minor": 1
}
