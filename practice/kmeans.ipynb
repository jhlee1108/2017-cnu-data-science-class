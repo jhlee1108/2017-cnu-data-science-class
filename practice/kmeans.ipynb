{
 "cells": [
  {
   "cell_type": "code",
   "execution_count": 195,
   "metadata": {
    "collapsed": true
   },
   "outputs": [],
   "source": [
    "from pyspark.ml.clustering import KMeans\n",
    "from pyspark.sql.functions import mean\n",
    "import os\n",
    "import time"
   ]
  },
  {
   "cell_type": "code",
   "execution_count": 141,
   "metadata": {},
   "outputs": [
    {
     "data": {
      "text/plain": [
       "956.439024390244"
      ]
     },
     "execution_count": 141,
     "metadata": {},
     "output_type": "execute_result"
    }
   ],
   "source": [
    "x.rdd.first()[0] ## or x.collect()[0][0]"
   ]
  },
  {
   "cell_type": "code",
   "execution_count": 167,
   "metadata": {},
   "outputs": [
    {
     "name": "stdout",
     "output_type": "stream",
     "text": [
      "191.97672581672668 sec\n"
     ]
    }
   ],
   "source": [
    "st=time.time()\n",
    "directory_path = '/home/hadoop/sokulee/'\n",
    "lable = 0\n",
    "f = open('test.txt', 'w')\n",
    "for n in range(1,100):\n",
    "    name = 'A0' + str(n)\n",
    "    directory_name = directory_path + name\n",
    "\n",
    "    if os.path.exists(directory_name):\n",
    "        df_sleep_temp = spark.read.json(directory_name + '/*_sleep.json')\n",
    "        df_steps_temp = spark.read.json(directory_name + '/*_steps.json')\n",
    "        df_heart_temp = spark.read.json(directory_name + '/*_heart.json')\n",
    "\n",
    "        a = df_sleep_temp.select(mean(df_sleep_temp['summary']['totalTimeInBed']).alias('sleep'))\n",
    "        b = df_steps_temp.select(mean(df_steps_temp['activities-steps'][0]['value']).alias('steps'))\n",
    "        c = df_heart_temp.select(mean(df_heart_temp['activities-heart'][0]['value']['heartRateZones'][0]['minutes'] \n",
    "                    + df_heart_temp['activities-heart'][0]['value']['heartRateZones'][1]['minutes'] \n",
    "                    + df_heart_temp['activities-heart'][0]['value']['heartRateZones'][2]['minutes'] \n",
    "                    + df_heart_temp['activities-heart'][0]['value']['heartRateZones'][3]['minutes']).alias('time'))\n",
    "        \n",
    "        f.write(str(lable) + ' 1:' + str(a.collect()[0][0]) + ' 2:' + str(b.collect()[0][0]) + ' 3:' + str(c.collect()[0][0]) + '\\n')\n",
    "        lable += 1\n",
    "        \n",
    "f.close()\n",
    "print(time.time()-st, 'sec')"
   ]
  },
  {
   "cell_type": "code",
   "execution_count": 196,
   "metadata": {},
   "outputs": [
    {
     "name": "stdout",
     "output_type": "stream",
     "text": [
      "+-----+--------------------+\n",
      "|label|            features|\n",
      "+-----+--------------------+\n",
      "|  0.0|(3,[0,1,2],[245.3...|\n",
      "|  1.0|(3,[0,1,2],[206.3...|\n",
      "|  2.0|(3,[0,1,2],[396.4...|\n",
      "|  3.0|(3,[0,1,2],[358.2...|\n",
      "|  4.0|(3,[0,1,2],[64.63...|\n",
      "|  5.0|(3,[0,1,2],[400.3...|\n",
      "|  6.0|(3,[0,1,2],[435.7...|\n",
      "|  7.0|(3,[0,1,2],[411.1...|\n",
      "|  8.0|(3,[0,1,2],[407.7...|\n",
      "|  9.0|(3,[0,1,2],[136.2...|\n",
      "| 10.0|(3,[0,1,2],[414.0...|\n",
      "| 11.0|(3,[0,1,2],[402.2...|\n",
      "| 12.0|(3,[0,1,2],[401.7...|\n",
      "| 13.0|(3,[0,1,2],[315.2...|\n",
      "| 14.0|(3,[0,1,2],[433.3...|\n",
      "| 15.0|(3,[0,1,2],[466.3...|\n",
      "| 16.0|(3,[0,1,2],[233.7...|\n",
      "| 17.0|(3,[0,1,2],[294.7...|\n",
      "| 18.0|(3,[0,1,2],[372.7...|\n",
      "| 19.0|(3,[0,1,2],[497.5...|\n",
      "+-----+--------------------+\n",
      "only showing top 20 rows\n",
      "\n"
     ]
    }
   ],
   "source": [
    "# Loads data.\n",
    "dataset = spark.read.format(\"libsvm\")\\\n",
    "                .load(\"/home/hadoop/test.txt\")\n",
    "dataset.show()"
   ]
  },
  {
   "cell_type": "code",
   "execution_count": 219,
   "metadata": {},
   "outputs": [],
   "source": [
    "# Trains a k-means model.\n",
    "kmeans = KMeans().setK(5).setSeed(1)\n",
    "model = kmeans.fit(dataset)"
   ]
  },
  {
   "cell_type": "code",
   "execution_count": 220,
   "metadata": {},
   "outputs": [
    {
     "name": "stdout",
     "output_type": "stream",
     "text": [
      "Within Set Sum of Squared Errors = 53472367.7325698\n"
     ]
    }
   ],
   "source": [
    "# Evaluate clustering by computing \n",
    "# Within Set Sum of Squared Errors.\n",
    "wssse = model.computeCost(dataset)\n",
    "print(\"Within Set Sum of Squared Errors = \" + str(wssse))"
   ]
  },
  {
   "cell_type": "code",
   "execution_count": 221,
   "metadata": {},
   "outputs": [
    {
     "name": "stdout",
     "output_type": "stream",
     "text": [
      "Cluster Centers: \n",
      "[  300.524994    5962.90686675  1100.88254458]\n",
      "[   353.89273469  15007.116        1245.336     ]\n",
      "[   313.15693878  11324.62250729   1171.90598335]\n",
      "[   350.70979592  20852.98         1291.73346939]\n",
      "[  358.37147474  8553.71578947  1217.25748727]\n"
     ]
    }
   ],
   "source": [
    "# Shows the result.\n",
    "centers = model.clusterCenters()\n",
    "print(\"Cluster Centers: \")\n",
    "for center in centers:\n",
    "    print(center)"
   ]
  },
  {
   "cell_type": "code",
   "execution_count": 190,
   "metadata": {},
   "outputs": [
    {
     "name": "stdout",
     "output_type": "stream",
     "text": [
      "Within Set Sum of Squared Errors = 92602536.59748363\n",
      "Cluster Centers: \n",
      "[  300.524994    5962.90686675  1100.88254458]\n",
      "[  346.7764723   8244.93285714  1209.78056669]\n",
      "[  333.78123057  9879.48        1179.40340834]\n",
      "[   347.80933673  12742.11719388   1215.33962549]\n",
      "[   345.10393321  17330.29636364   1264.85640074]\n"
     ]
    }
   ],
   "source": [
    "from pyspark.ml.clustering import BisectingKMeans\n",
    "\n",
    "# Loads data.\n",
    "dataset = spark.read.format(\"libsvm\").load(\"test.txt\")\n",
    "\n",
    "# Trains a bisecting k-means model.\n",
    "bkm = BisectingKMeans().setK(5).setSeed(0)\n",
    "model = bkm.fit(dataset)\n",
    "\n",
    "# Evaluate clustering.\n",
    "cost = model.computeCost(dataset)\n",
    "print(\"Within Set Sum of Squared Errors = \" + str(cost))\n",
    "\n",
    "# Shows the result.\n",
    "print(\"Cluster Centers: \")\n",
    "centers = model.clusterCenters()\n",
    "for center in centers:\n",
    "    print(center)\n"
   ]
  },
  {
   "cell_type": "code",
   "execution_count": 191,
   "metadata": {},
   "outputs": [
    {
     "name": "stdout",
     "output_type": "stream",
     "text": [
      "Within Set Sum of Squared Error = 0.6928203230275497\n"
     ]
    }
   ],
   "source": [
    "from numpy import array\n",
    "from math import sqrt\n",
    "\n",
    "from pyspark.mllib.clustering import KMeans, KMeansModel\n",
    "\n",
    "# Load and parse the data\n",
    "data = sc.textFile(\"spark-2.1.1-bin-hadoop2.7/data/mllib/kmeans_data.txt\")\n",
    "parsedData = data.map(lambda line: array([float(x) for x in line.split(' ')]))\n",
    "\n",
    "# Build the model (cluster the data)\n",
    "clusters = KMeans.train(parsedData, 2, maxIterations=10, initializationMode=\"random\")\n",
    "\n",
    "# Evaluate clustering by computing Within Set Sum of Squared Errors\n",
    "def error(point):\n",
    "    center = clusters.centers[clusters.predict(point)]\n",
    "    return sqrt(sum([x**2 for x in (point - center)]))\n",
    "\n",
    "WSSSE = parsedData.map(lambda point: error(point)).reduce(lambda x, y: x + y)\n",
    "print(\"Within Set Sum of Squared Error = \" + str(WSSSE))\n",
    "\n",
    "# Save and load model\n",
    "clusters.save(sc, \"target/org/apache/spark/PythonKMeansExample/KMeansModel\")\n",
    "sameModel = KMeansModel.load(sc, \"target/org/apache/spark/PythonKMeansExample/KMeansModel\")"
   ]
  },
  {
   "cell_type": "code",
   "execution_count": null,
   "metadata": {
    "collapsed": true
   },
   "outputs": [],
   "source": []
  }
 ],
 "metadata": {
  "kernelspec": {
   "display_name": "Python 3",
   "language": "python",
   "name": "python3"
  },
  "language_info": {
   "codemirror_mode": {
    "name": "ipython",
    "version": 3
   },
   "file_extension": ".py",
   "mimetype": "text/x-python",
   "name": "python",
   "nbconvert_exporter": "python",
   "pygments_lexer": "ipython3",
   "version": "3.5.2"
  }
 },
 "nbformat": 4,
 "nbformat_minor": 2
}
