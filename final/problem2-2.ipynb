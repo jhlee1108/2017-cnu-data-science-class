{
 "cells": [
  {
   "cell_type": "code",
   "execution_count": 1,
   "metadata": {
    "collapsed": true
   },
   "outputs": [],
   "source": [
    "import os\n",
    "import time\n",
    "import pandas as pd\n",
    "from pyspark.sql.functions import sum"
   ]
  },
  {
   "cell_type": "code",
   "execution_count": 2,
   "metadata": {},
   "outputs": [
    {
     "name": "stdout",
     "output_type": "stream",
     "text": [
      "284.4849715232849 sec\n"
     ]
    }
   ],
   "source": [
    "st=time.time()\n",
    "directory_path = '/home/hadoop/pyspark/sokulee/'\n",
    "f = open('sokulee_sum.csv', 'w')\n",
    "f.write('id,sleep,steps,wearing_time\\n')\n",
    "for n in range(1,100):\n",
    "    name = 'A0' + str(n)\n",
    "    directory_name = directory_path + name\n",
    "\n",
    "    if os.path.exists(directory_name):\n",
    "        df_sleep_temp = spark.read.json(directory_name + '/*_sleep.json')\n",
    "        df_steps_temp = spark.read.json(directory_name + '/*_steps.json')\n",
    "        df_heart_temp = spark.read.json(directory_name + '/*_heart.json')\n",
    "\n",
    "        a = df_sleep_temp.select(sum(df_sleep_temp['summary']['totalTimeInBed']).alias('sleep'))\n",
    "        b = df_steps_temp.select(sum(df_steps_temp['activities-steps'][0]['value']).alias('steps'))\n",
    "        c = df_heart_temp.select(sum(df_heart_temp['activities-heart'][0]['value']['heartRateZones'][0]['minutes'] \n",
    "                    + df_heart_temp['activities-heart'][0]['value']['heartRateZones'][1]['minutes'] \n",
    "                    + df_heart_temp['activities-heart'][0]['value']['heartRateZones'][2]['minutes'] \n",
    "                    + df_heart_temp['activities-heart'][0]['value']['heartRateZones'][3]['minutes']).alias('time'))\n",
    "        \n",
    "        f.write(name + ',' + str(a.collect()[0][0]) + ',' + str(b.collect()[0][0]) + ',' + str(c.collect()[0][0]) + '\\n')\n",
    "        \n",
    "f.close()\n",
    "print(time.time()-st, 'sec')"
   ]
  },
  {
   "cell_type": "code",
   "execution_count": 7,
   "metadata": {},
   "outputs": [
    {
     "data": {
      "text/html": [
       "<div>\n",
       "<style>\n",
       "    .dataframe thead tr:only-child th {\n",
       "        text-align: right;\n",
       "    }\n",
       "\n",
       "    .dataframe thead th {\n",
       "        text-align: left;\n",
       "    }\n",
       "\n",
       "    .dataframe tbody tr th {\n",
       "        vertical-align: top;\n",
       "    }\n",
       "</style>\n",
       "<table border=\"1\" class=\"dataframe\">\n",
       "  <thead>\n",
       "    <tr style=\"text-align: right;\">\n",
       "      <th></th>\n",
       "      <th>id</th>\n",
       "      <th>sleep</th>\n",
       "      <th>steps</th>\n",
       "      <th>wearing_time</th>\n",
       "    </tr>\n",
       "  </thead>\n",
       "  <tbody>\n",
       "    <tr>\n",
       "      <th>0</th>\n",
       "      <td>A01</td>\n",
       "      <td>12020</td>\n",
       "      <td>351518.0</td>\n",
       "      <td>39214</td>\n",
       "    </tr>\n",
       "    <tr>\n",
       "      <th>1</th>\n",
       "      <td>A02</td>\n",
       "      <td>10113</td>\n",
       "      <td>317873.0</td>\n",
       "      <td>36595</td>\n",
       "    </tr>\n",
       "    <tr>\n",
       "      <th>2</th>\n",
       "      <td>A03</td>\n",
       "      <td>19426</td>\n",
       "      <td>391302.0</td>\n",
       "      <td>57866</td>\n",
       "    </tr>\n",
       "    <tr>\n",
       "      <th>3</th>\n",
       "      <td>A04</td>\n",
       "      <td>17553</td>\n",
       "      <td>667043.0</td>\n",
       "      <td>65616</td>\n",
       "    </tr>\n",
       "    <tr>\n",
       "      <th>4</th>\n",
       "      <td>A05</td>\n",
       "      <td>3167</td>\n",
       "      <td>205815.0</td>\n",
       "      <td>13217</td>\n",
       "    </tr>\n",
       "  </tbody>\n",
       "</table>\n",
       "</div>"
      ],
      "text/plain": [
       "    id  sleep     steps  wearing_time\n",
       "0  A01  12020  351518.0         39214\n",
       "1  A02  10113  317873.0         36595\n",
       "2  A03  19426  391302.0         57866\n",
       "3  A04  17553  667043.0         65616\n",
       "4  A05   3167  205815.0         13217"
      ]
     },
     "execution_count": 7,
     "metadata": {},
     "output_type": "execute_result"
    }
   ],
   "source": [
    "df_sokulee = pd.read_csv('sokulee_sum.csv')\n",
    "df_sokulee.head()"
   ]
  },
  {
   "cell_type": "code",
   "execution_count": 13,
   "metadata": {},
   "outputs": [
    {
     "data": {
      "text/plain": [
       "17    1083320.0\n",
       "18    1070291.0\n",
       "35     974336.0\n",
       "37     835907.0\n",
       "51     816567.0\n",
       "Name: steps, dtype: float64"
      ]
     },
     "execution_count": 13,
     "metadata": {},
     "output_type": "execute_result"
    }
   ],
   "source": [
    "df_sokulee['steps'].sort_values(ascending=False)[:5]"
   ]
  },
  {
   "cell_type": "code",
   "execution_count": 14,
   "metadata": {},
   "outputs": [
    {
     "data": {
      "text/plain": [
       "19    24378\n",
       "53    24378\n",
       "38    24165\n",
       "40    23035\n",
       "15    22853\n",
       "Name: sleep, dtype: int64"
      ]
     },
     "execution_count": 14,
     "metadata": {},
     "output_type": "execute_result"
    }
   ],
   "source": [
    "df_sokulee['sleep'].sort_values(ascending=False)[:5]"
   ]
  },
  {
   "cell_type": "code",
   "execution_count": 15,
   "metadata": {},
   "outputs": [
    {
     "data": {
      "text/plain": [
       "40    70112\n",
       "37    69617\n",
       "6     69194\n",
       "10    69162\n",
       "15    68872\n",
       "Name: wearing_time, dtype: int64"
      ]
     },
     "execution_count": 15,
     "metadata": {},
     "output_type": "execute_result"
    }
   ],
   "source": [
    "df_sokulee['wearing_time'].sort_values(ascending=False)[:5]"
   ]
  }
 ],
 "metadata": {
  "kernelspec": {
   "display_name": "Python 3",
   "language": "python",
   "name": "python3"
  },
  "language_info": {
   "codemirror_mode": {
    "name": "ipython",
    "version": 3
   },
   "file_extension": ".py",
   "mimetype": "text/x-python",
   "name": "python",
   "nbconvert_exporter": "python",
   "pygments_lexer": "ipython3",
   "version": "3.5.2"
  }
 },
 "nbformat": 4,
 "nbformat_minor": 2
}
