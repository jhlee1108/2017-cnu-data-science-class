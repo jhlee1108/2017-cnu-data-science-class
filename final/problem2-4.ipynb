{
 "cells": [
  {
   "cell_type": "code",
   "execution_count": 1,
   "metadata": {
    "collapsed": true
   },
   "outputs": [],
   "source": [
    "import os\n",
    "import time\n",
    "import pandas as pd\n",
    "from pyspark.sql.functions import mean"
   ]
  },
  {
   "cell_type": "code",
   "execution_count": 2,
   "metadata": {},
   "outputs": [
    {
     "name": "stdout",
     "output_type": "stream",
     "text": [
      "292.107515335083 sec\n"
     ]
    }
   ],
   "source": [
    "st=time.time()\n",
    "directory_path = '/home/hadoop/pyspark/sokulee/'\n",
    "f = open('sokulee.csv', 'w')\n",
    "f.write('id,sleep,steps,wearing_time\\n')\n",
    "for n in range(1,100):\n",
    "    name = 'A0' + str(n)\n",
    "    directory_name = directory_path + name\n",
    "\n",
    "    if os.path.exists(directory_name):\n",
    "        df_sleep_temp = spark.read.json(directory_name + '/*_sleep.json')\n",
    "        df_steps_temp = spark.read.json(directory_name + '/*_steps.json')\n",
    "        df_heart_temp = spark.read.json(directory_name + '/*_heart.json')\n",
    "\n",
    "        a = df_sleep_temp.select(mean(df_sleep_temp['summary']['totalTimeInBed']).alias('sleep'))\n",
    "        b = df_steps_temp.select(mean(df_steps_temp['activities-steps'][0]['value']).alias('steps'))\n",
    "        c = df_heart_temp.select(mean(df_heart_temp['activities-heart'][0]['value']['heartRateZones'][0]['minutes'] \n",
    "                    + df_heart_temp['activities-heart'][0]['value']['heartRateZones'][1]['minutes'] \n",
    "                    + df_heart_temp['activities-heart'][0]['value']['heartRateZones'][2]['minutes'] \n",
    "                    + df_heart_temp['activities-heart'][0]['value']['heartRateZones'][3]['minutes']).alias('time'))\n",
    "        \n",
    "        f.write(name + ',' + str(a.collect()[0][0]) + ',' + str(b.collect()[0][0]) + ',' + str(c.collect()[0][0]) + '\\n')\n",
    "        \n",
    "f.close()\n",
    "print(time.time()-st, 'sec')"
   ]
  },
  {
   "cell_type": "code",
   "execution_count": 3,
   "metadata": {},
   "outputs": [
    {
     "data": {
      "text/html": [
       "<div>\n",
       "<style>\n",
       "    .dataframe thead tr:only-child th {\n",
       "        text-align: right;\n",
       "    }\n",
       "\n",
       "    .dataframe thead th {\n",
       "        text-align: left;\n",
       "    }\n",
       "\n",
       "    .dataframe tbody tr th {\n",
       "        vertical-align: top;\n",
       "    }\n",
       "</style>\n",
       "<table border=\"1\" class=\"dataframe\">\n",
       "  <thead>\n",
       "    <tr style=\"text-align: right;\">\n",
       "      <th></th>\n",
       "      <th>id</th>\n",
       "      <th>sleep</th>\n",
       "      <th>steps</th>\n",
       "      <th>wearing_time</th>\n",
       "    </tr>\n",
       "  </thead>\n",
       "  <tbody>\n",
       "    <tr>\n",
       "      <th>0</th>\n",
       "      <td>A01</td>\n",
       "      <td>245.306122</td>\n",
       "      <td>7030.36</td>\n",
       "      <td>956.439024</td>\n",
       "    </tr>\n",
       "    <tr>\n",
       "      <th>1</th>\n",
       "      <td>A02</td>\n",
       "      <td>206.387755</td>\n",
       "      <td>6357.46</td>\n",
       "      <td>938.333333</td>\n",
       "    </tr>\n",
       "    <tr>\n",
       "      <th>2</th>\n",
       "      <td>A03</td>\n",
       "      <td>396.448980</td>\n",
       "      <td>7826.04</td>\n",
       "      <td>1157.320000</td>\n",
       "    </tr>\n",
       "    <tr>\n",
       "      <th>3</th>\n",
       "      <td>A04</td>\n",
       "      <td>358.224490</td>\n",
       "      <td>13340.86</td>\n",
       "      <td>1312.320000</td>\n",
       "    </tr>\n",
       "    <tr>\n",
       "      <th>4</th>\n",
       "      <td>A05</td>\n",
       "      <td>64.632653</td>\n",
       "      <td>4116.30</td>\n",
       "      <td>944.071429</td>\n",
       "    </tr>\n",
       "  </tbody>\n",
       "</table>\n",
       "</div>"
      ],
      "text/plain": [
       "    id       sleep     steps  wearing_time\n",
       "0  A01  245.306122   7030.36    956.439024\n",
       "1  A02  206.387755   6357.46    938.333333\n",
       "2  A03  396.448980   7826.04   1157.320000\n",
       "3  A04  358.224490  13340.86   1312.320000\n",
       "4  A05   64.632653   4116.30    944.071429"
      ]
     },
     "execution_count": 3,
     "metadata": {},
     "output_type": "execute_result"
    }
   ],
   "source": [
    "df_sokulee = pd.read_csv('sokulee.csv')\n",
    "df_sokulee.head()"
   ]
  },
  {
   "cell_type": "code",
   "execution_count": 4,
   "metadata": {
    "collapsed": true
   },
   "outputs": [],
   "source": [
    "import math\n",
    "from operator import itemgetter\n",
    "from scipy.spatial import distance\n",
    "\n",
    "def distance_euclidean(a, b):\n",
    "    return 1/(distance.euclidean(a,b)+1)"
   ]
  },
  {
   "cell_type": "code",
   "execution_count": 5,
   "metadata": {
    "collapsed": true
   },
   "outputs": [],
   "source": [
    "def nearest_neighbor_user(user, topN, simFunc):\n",
    "    nn = {}\n",
    "    interSectionU1 = []\n",
    "    for r in df_sokulee.loc[df_sokulee['id'] == user].iterrows():\n",
    "        interSectionU1.append(r[1][1])\n",
    "        interSectionU1.append(r[1][2])\n",
    "        interSectionU1.append(r[1][3])\n",
    "    \n",
    "    ## Brote Force Compute\n",
    "    for uid in df_sokulee['id']:\n",
    "        interSectionU2 = []\n",
    "        \n",
    "        if uid == user:\n",
    "            continue\n",
    "        \n",
    "        for r in df_sokulee.loc[df_sokulee['id'] == uid].iterrows():\n",
    "            interSectionU2.append(r[1][1])\n",
    "            interSectionU2.append(r[1][2])\n",
    "            interSectionU2.append(r[1][3])\n",
    "            \n",
    "        ## similarity function\n",
    "        sim = simFunc(interSectionU1, interSectionU2)\n",
    "        \n",
    "        if math.isnan(sim) == False:\n",
    "            nn[uid] = sim\n",
    "            \n",
    "    ## top N returned\n",
    "    return sorted(nn.items(), key=itemgetter(1))[:-(topN+1):-1]"
   ]
  },
  {
   "cell_type": "code",
   "execution_count": 6,
   "metadata": {},
   "outputs": [
    {
     "name": "stdout",
     "output_type": "stream",
     "text": [
      "13.98 497.510204082\n",
      "4116.3 21666.4\n",
      "744.875 1402.24\n"
     ]
    }
   ],
   "source": [
    "sleep_min = df_sokulee['sleep'].min()\n",
    "sleep_max = df_sokulee['sleep'].max()\n",
    "steps_min = df_sokulee['steps'].min()\n",
    "steps_max = df_sokulee['steps'].max()\n",
    "wearing_time_min = df_sokulee['wearing_time'].min()\n",
    "wearing_time_max = df_sokulee['wearing_time'].max()\n",
    "print(sleep_min, sleep_max)\n",
    "print(steps_min, steps_max)\n",
    "print(wearing_time_min, wearing_time_max)"
   ]
  },
  {
   "cell_type": "code",
   "execution_count": 7,
   "metadata": {},
   "outputs": [
    {
     "data": {
      "text/html": [
       "<div>\n",
       "<style>\n",
       "    .dataframe thead tr:only-child th {\n",
       "        text-align: right;\n",
       "    }\n",
       "\n",
       "    .dataframe thead th {\n",
       "        text-align: left;\n",
       "    }\n",
       "\n",
       "    .dataframe tbody tr th {\n",
       "        vertical-align: top;\n",
       "    }\n",
       "</style>\n",
       "<table border=\"1\" class=\"dataframe\">\n",
       "  <thead>\n",
       "    <tr style=\"text-align: right;\">\n",
       "      <th></th>\n",
       "      <th>id</th>\n",
       "      <th>sleep</th>\n",
       "      <th>steps</th>\n",
       "      <th>wearing_time</th>\n",
       "    </tr>\n",
       "  </thead>\n",
       "  <tbody>\n",
       "    <tr>\n",
       "      <th>0</th>\n",
       "      <td>A01</td>\n",
       "      <td>0.478411</td>\n",
       "      <td>0.166042</td>\n",
       "      <td>0.321836</td>\n",
       "    </tr>\n",
       "    <tr>\n",
       "      <th>1</th>\n",
       "      <td>A02</td>\n",
       "      <td>0.397923</td>\n",
       "      <td>0.127701</td>\n",
       "      <td>0.294294</td>\n",
       "    </tr>\n",
       "    <tr>\n",
       "      <th>2</th>\n",
       "      <td>A03</td>\n",
       "      <td>0.790993</td>\n",
       "      <td>0.211380</td>\n",
       "      <td>0.627422</td>\n",
       "    </tr>\n",
       "    <tr>\n",
       "      <th>3</th>\n",
       "      <td>A04</td>\n",
       "      <td>0.711940</td>\n",
       "      <td>0.525613</td>\n",
       "      <td>0.863211</td>\n",
       "    </tr>\n",
       "    <tr>\n",
       "      <th>4</th>\n",
       "      <td>A05</td>\n",
       "      <td>0.104756</td>\n",
       "      <td>0.000000</td>\n",
       "      <td>0.303023</td>\n",
       "    </tr>\n",
       "  </tbody>\n",
       "</table>\n",
       "</div>"
      ],
      "text/plain": [
       "    id     sleep     steps  wearing_time\n",
       "0  A01  0.478411  0.166042      0.321836\n",
       "1  A02  0.397923  0.127701      0.294294\n",
       "2  A03  0.790993  0.211380      0.627422\n",
       "3  A04  0.711940  0.525613      0.863211\n",
       "4  A05  0.104756  0.000000      0.303023"
      ]
     },
     "execution_count": 7,
     "metadata": {},
     "output_type": "execute_result"
    }
   ],
   "source": [
    "df_sokulee['sleep'] = (df_sokulee['sleep'] - sleep_min) / (sleep_max - sleep_min)\n",
    "df_sokulee['steps'] = (df_sokulee['steps'] - steps_min) / (steps_max - steps_min)\n",
    "df_sokulee['wearing_time'] = (df_sokulee['wearing_time'] - wearing_time_min) / (wearing_time_max - wearing_time_min)\n",
    "df_sokulee.head()"
   ]
  },
  {
   "cell_type": "code",
   "execution_count": 8,
   "metadata": {},
   "outputs": [
    {
     "name": "stdout",
     "output_type": "stream",
     "text": [
      "('A052', 0.989020311616692)\n",
      "('A06', 0.9278684952864951)\n",
      "('A068', 0.9272284561577543)\n",
      "('A07', 0.9094979561621419)\n",
      "('A017', 0.9064484165527119)\n",
      "('A032', 0.8971041460397456)\n",
      "('A04', 0.8894261981856548)\n",
      "('A018', 0.8360769427114618)\n",
      "('A083', 0.832476319672743)\n",
      "('A019', 0.832418729285905)\n"
     ]
    }
   ],
   "source": [
    "neighbor = nearest_neighbor_user('A08', 10, distance_euclidean)\n",
    "for n in neighbor:\n",
    "    print(n)"
   ]
  },
  {
   "cell_type": "code",
   "execution_count": 9,
   "metadata": {},
   "outputs": [
    {
     "name": "stdout",
     "output_type": "stream",
     "text": [
      "('A052', 0.989020311616692)\n"
     ]
    }
   ],
   "source": [
    "neighbor = nearest_neighbor_user('A08', 1, distance_euclidean)\n",
    "for n in neighbor:\n",
    "    print(n)"
   ]
  }
 ],
 "metadata": {
  "kernelspec": {
   "display_name": "Python 3",
   "language": "python",
   "name": "python3"
  },
  "language_info": {
   "codemirror_mode": {
    "name": "ipython",
    "version": 3
   },
   "file_extension": ".py",
   "mimetype": "text/x-python",
   "name": "python",
   "nbconvert_exporter": "python",
   "pygments_lexer": "ipython3",
   "version": "3.5.2"
  }
 },
 "nbformat": 4,
 "nbformat_minor": 2
}
