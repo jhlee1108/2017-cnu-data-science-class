{
 "cells": [
  {
   "cell_type": "code",
   "execution_count": 1,
   "metadata": {
    "collapsed": true
   },
   "outputs": [],
   "source": [
    "from pyspark.ml.clustering import KMeans\n",
    "from pyspark.sql.functions import mean\n",
    "import os\n",
    "import time\n",
    "import pandas as pd"
   ]
  },
  {
   "cell_type": "code",
   "execution_count": 2,
   "metadata": {},
   "outputs": [
    {
     "name": "stdout",
     "output_type": "stream",
     "text": [
      "275.8056843280792 sec\n"
     ]
    }
   ],
   "source": [
    "st=time.time()\n",
    "directory_path = '/home/hadoop/pyspark/sokulee/'\n",
    "f = open('sokulee.csv', 'w')\n",
    "f.write('id,sleep,steps,wearing_time\\n')\n",
    "for n in range(1,100):\n",
    "    name = 'A0' + str(n)\n",
    "    directory_name = directory_path + name\n",
    "\n",
    "    if os.path.exists(directory_name):\n",
    "        df_sleep_temp = spark.read.json(directory_name + '/*_sleep.json')\n",
    "        df_steps_temp = spark.read.json(directory_name + '/*_steps.json')\n",
    "        df_heart_temp = spark.read.json(directory_name + '/*_heart.json')\n",
    "\n",
    "        a = df_sleep_temp.select(mean(df_sleep_temp['summary']['totalTimeInBed']).alias('sleep'))\n",
    "        b = df_steps_temp.select(mean(df_steps_temp['activities-steps'][0]['value']).alias('steps'))\n",
    "        c = df_heart_temp.select(mean(df_heart_temp['activities-heart'][0]['value']['heartRateZones'][0]['minutes'] \n",
    "                    + df_heart_temp['activities-heart'][0]['value']['heartRateZones'][1]['minutes'] \n",
    "                    + df_heart_temp['activities-heart'][0]['value']['heartRateZones'][2]['minutes'] \n",
    "                    + df_heart_temp['activities-heart'][0]['value']['heartRateZones'][3]['minutes']).alias('time'))\n",
    "        \n",
    "        f.write(name + ',' + str(a.collect()[0][0]) + ',' + str(b.collect()[0][0]) + ',' + str(c.collect()[0][0]) + '\\n')\n",
    "        \n",
    "f.close()\n",
    "print(time.time()-st, 'sec')"
   ]
  },
  {
   "cell_type": "code",
   "execution_count": 3,
   "metadata": {},
   "outputs": [
    {
     "data": {
      "text/html": [
       "<div>\n",
       "<style>\n",
       "    .dataframe thead tr:only-child th {\n",
       "        text-align: right;\n",
       "    }\n",
       "\n",
       "    .dataframe thead th {\n",
       "        text-align: left;\n",
       "    }\n",
       "\n",
       "    .dataframe tbody tr th {\n",
       "        vertical-align: top;\n",
       "    }\n",
       "</style>\n",
       "<table border=\"1\" class=\"dataframe\">\n",
       "  <thead>\n",
       "    <tr style=\"text-align: right;\">\n",
       "      <th></th>\n",
       "      <th>id</th>\n",
       "      <th>sleep</th>\n",
       "      <th>steps</th>\n",
       "      <th>wearing_time</th>\n",
       "    </tr>\n",
       "  </thead>\n",
       "  <tbody>\n",
       "    <tr>\n",
       "      <th>0</th>\n",
       "      <td>A01</td>\n",
       "      <td>245.306122</td>\n",
       "      <td>7030.36</td>\n",
       "      <td>956.439024</td>\n",
       "    </tr>\n",
       "    <tr>\n",
       "      <th>1</th>\n",
       "      <td>A02</td>\n",
       "      <td>206.387755</td>\n",
       "      <td>6357.46</td>\n",
       "      <td>938.333333</td>\n",
       "    </tr>\n",
       "    <tr>\n",
       "      <th>2</th>\n",
       "      <td>A03</td>\n",
       "      <td>396.448980</td>\n",
       "      <td>7826.04</td>\n",
       "      <td>1157.320000</td>\n",
       "    </tr>\n",
       "    <tr>\n",
       "      <th>3</th>\n",
       "      <td>A04</td>\n",
       "      <td>358.224490</td>\n",
       "      <td>13340.86</td>\n",
       "      <td>1312.320000</td>\n",
       "    </tr>\n",
       "    <tr>\n",
       "      <th>4</th>\n",
       "      <td>A05</td>\n",
       "      <td>64.632653</td>\n",
       "      <td>4116.30</td>\n",
       "      <td>944.071429</td>\n",
       "    </tr>\n",
       "  </tbody>\n",
       "</table>\n",
       "</div>"
      ],
      "text/plain": [
       "    id       sleep     steps  wearing_time\n",
       "0  A01  245.306122   7030.36    956.439024\n",
       "1  A02  206.387755   6357.46    938.333333\n",
       "2  A03  396.448980   7826.04   1157.320000\n",
       "3  A04  358.224490  13340.86   1312.320000\n",
       "4  A05   64.632653   4116.30    944.071429"
      ]
     },
     "execution_count": 3,
     "metadata": {},
     "output_type": "execute_result"
    }
   ],
   "source": [
    "df_sokulee = pd.read_csv('sokulee.csv')\n",
    "df_sokulee.head()"
   ]
  },
  {
   "cell_type": "code",
   "execution_count": 4,
   "metadata": {},
   "outputs": [
    {
     "name": "stdout",
     "output_type": "stream",
     "text": [
      "13.98 497.510204082\n",
      "4116.3 21666.4\n",
      "744.875 1402.24\n"
     ]
    }
   ],
   "source": [
    "sleep_min = df_sokulee['sleep'].min()\n",
    "sleep_max = df_sokulee['sleep'].max()\n",
    "steps_min = df_sokulee['steps'].min()\n",
    "steps_max = df_sokulee['steps'].max()\n",
    "wearing_time_min = df_sokulee['wearing_time'].min()\n",
    "wearing_time_max = df_sokulee['wearing_time'].max()\n",
    "print(sleep_min, sleep_max)\n",
    "print(steps_min, steps_max)\n",
    "print(wearing_time_min, wearing_time_max)"
   ]
  },
  {
   "cell_type": "code",
   "execution_count": 5,
   "metadata": {},
   "outputs": [
    {
     "data": {
      "text/html": [
       "<div>\n",
       "<style>\n",
       "    .dataframe thead tr:only-child th {\n",
       "        text-align: right;\n",
       "    }\n",
       "\n",
       "    .dataframe thead th {\n",
       "        text-align: left;\n",
       "    }\n",
       "\n",
       "    .dataframe tbody tr th {\n",
       "        vertical-align: top;\n",
       "    }\n",
       "</style>\n",
       "<table border=\"1\" class=\"dataframe\">\n",
       "  <thead>\n",
       "    <tr style=\"text-align: right;\">\n",
       "      <th></th>\n",
       "      <th>id</th>\n",
       "      <th>sleep</th>\n",
       "      <th>steps</th>\n",
       "      <th>wearing_time</th>\n",
       "    </tr>\n",
       "  </thead>\n",
       "  <tbody>\n",
       "    <tr>\n",
       "      <th>0</th>\n",
       "      <td>A01</td>\n",
       "      <td>0.478411</td>\n",
       "      <td>0.166042</td>\n",
       "      <td>0.321836</td>\n",
       "    </tr>\n",
       "    <tr>\n",
       "      <th>1</th>\n",
       "      <td>A02</td>\n",
       "      <td>0.397923</td>\n",
       "      <td>0.127701</td>\n",
       "      <td>0.294294</td>\n",
       "    </tr>\n",
       "    <tr>\n",
       "      <th>2</th>\n",
       "      <td>A03</td>\n",
       "      <td>0.790993</td>\n",
       "      <td>0.211380</td>\n",
       "      <td>0.627422</td>\n",
       "    </tr>\n",
       "    <tr>\n",
       "      <th>3</th>\n",
       "      <td>A04</td>\n",
       "      <td>0.711940</td>\n",
       "      <td>0.525613</td>\n",
       "      <td>0.863211</td>\n",
       "    </tr>\n",
       "    <tr>\n",
       "      <th>4</th>\n",
       "      <td>A05</td>\n",
       "      <td>0.104756</td>\n",
       "      <td>0.000000</td>\n",
       "      <td>0.303023</td>\n",
       "    </tr>\n",
       "  </tbody>\n",
       "</table>\n",
       "</div>"
      ],
      "text/plain": [
       "    id     sleep     steps  wearing_time\n",
       "0  A01  0.478411  0.166042      0.321836\n",
       "1  A02  0.397923  0.127701      0.294294\n",
       "2  A03  0.790993  0.211380      0.627422\n",
       "3  A04  0.711940  0.525613      0.863211\n",
       "4  A05  0.104756  0.000000      0.303023"
      ]
     },
     "execution_count": 5,
     "metadata": {},
     "output_type": "execute_result"
    }
   ],
   "source": [
    "df_sokulee['sleep'] = (df_sokulee['sleep'] - sleep_min) / (sleep_max - sleep_min)\n",
    "df_sokulee['steps'] = (df_sokulee['steps'] - steps_min) / (steps_max - steps_min)\n",
    "df_sokulee['wearing_time'] = (df_sokulee['wearing_time'] - wearing_time_min) / (wearing_time_max - wearing_time_min)\n",
    "df_sokulee.head()"
   ]
  },
  {
   "cell_type": "code",
   "execution_count": 6,
   "metadata": {
    "collapsed": true
   },
   "outputs": [],
   "source": [
    "f = open('test.txt', 'w')\n",
    "lable = 0\n",
    "\n",
    "for uid in df_sokulee['id']:\n",
    "    for r in df_sokulee.loc[df_sokulee['id'] == uid].iterrows():\n",
    "        f.write('{0} 1:{1} 2:{2} 3:{3}\\n'.format(lable, r[1][1], r[1][2], r[1][3]))\n",
    "        lable += 1\n",
    "f.close()"
   ]
  },
  {
   "cell_type": "code",
   "execution_count": 7,
   "metadata": {},
   "outputs": [
    {
     "name": "stdout",
     "output_type": "stream",
     "text": [
      "+-----+--------------------+\n",
      "|label|            features|\n",
      "+-----+--------------------+\n",
      "|  0.0|(3,[0,1,2],[0.478...|\n",
      "|  1.0|(3,[0,1,2],[0.397...|\n",
      "|  2.0|(3,[0,1,2],[0.790...|\n",
      "|  3.0|(3,[0,1,2],[0.711...|\n",
      "|  4.0|(3,[0,2],[0.10475...|\n",
      "|  5.0|(3,[0,1,2],[0.799...|\n",
      "|  6.0|(3,[0,1,2],[0.872...|\n",
      "|  7.0|(3,[0,1,2],[0.821...|\n",
      "|  8.0|(3,[0,1,2],[0.814...|\n",
      "|  9.0|(3,[0,1,2],[0.252...|\n",
      "| 10.0|(3,[0,1,2],[0.827...|\n",
      "| 11.0|(3,[0,1,2],[0.802...|\n",
      "| 12.0|(3,[0,1,2],[0.801...|\n",
      "| 13.0|(3,[0,1,2],[0.623...|\n",
      "| 14.0|(3,[0,1,2],[0.867...|\n",
      "| 15.0|(3,[0,1,2],[0.935...|\n",
      "| 16.0|(3,[0,1,2],[0.454...|\n",
      "| 17.0|(3,[0,1,2],[0.580...|\n",
      "| 18.0|(3,[0,1,2],[0.741...|\n",
      "| 19.0|(3,[0,1,2],[1.0,0...|\n",
      "+-----+--------------------+\n",
      "only showing top 20 rows\n",
      "\n"
     ]
    }
   ],
   "source": [
    "dataset = spark.read.format(\"libsvm\")\\\n",
    "                .load(\"/home/hadoop/pyspark/test.txt\")\n",
    "dataset.show()"
   ]
  },
  {
   "cell_type": "code",
   "execution_count": 8,
   "metadata": {
    "collapsed": true
   },
   "outputs": [],
   "source": [
    "kmeans = KMeans().setK(4).setSeed(1)\n",
    "model = kmeans.fit(dataset)"
   ]
  },
  {
   "cell_type": "code",
   "execution_count": 9,
   "metadata": {},
   "outputs": [
    {
     "name": "stdout",
     "output_type": "stream",
     "text": [
      "Within Set Sum of Squared Errors = 3.5870179674240017\n"
     ]
    }
   ],
   "source": [
    "wssse = model.computeCost(dataset)\n",
    "print(\"Within Set Sum of Squared Errors = \" + str(wssse))"
   ]
  },
  {
   "cell_type": "code",
   "execution_count": 10,
   "metadata": {},
   "outputs": [
    {
     "name": "stdout",
     "output_type": "stream",
     "text": [
      "Cluster Centers: \n",
      "[ 0.82739283  0.19190198  0.79634372]\n",
      "[ 0.69639868  0.95365155  0.83189472]\n",
      "[ 0.711156    0.54682726  0.78079728]\n",
      "[ 0.39703327  0.22660912  0.37450526]\n"
     ]
    }
   ],
   "source": [
    "centers = model.clusterCenters()\n",
    "print(\"Cluster Centers: \")\n",
    "for center in centers:\n",
    "    print(center)"
   ]
  }
 ],
 "metadata": {
  "kernelspec": {
   "display_name": "Python 3",
   "language": "python",
   "name": "python3"
  },
  "language_info": {
   "codemirror_mode": {
    "name": "ipython",
    "version": 3
   },
   "file_extension": ".py",
   "mimetype": "text/x-python",
   "name": "python",
   "nbconvert_exporter": "python",
   "pygments_lexer": "ipython3",
   "version": "3.5.2"
  }
 },
 "nbformat": 4,
 "nbformat_minor": 2
}
